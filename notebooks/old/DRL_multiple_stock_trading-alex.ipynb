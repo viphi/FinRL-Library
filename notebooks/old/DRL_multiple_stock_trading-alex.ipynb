{
 "cells": [
  {
   "cell_type": "markdown",
   "metadata": {
    "colab_type": "text",
    "id": "view-in-github"
   },
   "source": [
    "<a href=\"https://colab.research.google.com/github/AI4Finance-LLC/FinRL-Library/blob/master/DRL_multiple_stock_trading.ipynb\" target=\"_parent\"><img src=\"https://colab.research.google.com/assets/colab-badge.svg\" alt=\"Open In Colab\"/></a>"
   ]
  },
  {
   "cell_type": "markdown",
   "metadata": {
    "id": "gXaoZs2lh1hi"
   },
   "source": [
    "# Deep Reinforcement Learning for Stock Trading from Scratch: Multiple Stock Trading\n",
    "\n",
    "Tutorials to use OpenAI DRL to trade multiple stocks in one Jupyter Notebook | Presented at NeurIPS 2020: Deep RL Workshop\n",
    "\n",
    "* This blog is based on our paper: FinRL: A Deep Reinforcement Learning Library for Automated Stock Trading in Quantitative Finance, presented at NeurIPS 2020: Deep RL Workshop.\n",
    "* Check out medium blog for detailed explanations: \n",
    "* Please report any issues to our Github: https://github.com/AI4Finance-LLC/FinRL-Library/issues\n",
    "\n"
   ]
  },
  {
   "cell_type": "markdown",
   "metadata": {
    "id": "Uy5_PTmOh1hj"
   },
   "source": [
    "## Python Package Installation\n",
    "\n",
    "As a first step we check if the additional packages needed are present, if not install them. \n",
    "* Yahoo Finance API\n",
    "* pandas\n",
    "* numpy\n",
    "* matplotlib\n",
    "* stockstats\n",
    "* OpenAI gym\n",
    "* stable-baselines\n",
    "* tensorflow\n",
    "* pyfolio"
   ]
  },
  {
   "cell_type": "code",
   "execution_count": 1,
   "metadata": {
    "colab": {
     "base_uri": "https://localhost:8080/"
    },
    "id": "oirvDTJ0h1hk",
    "outputId": "badf76e7-1383-4e4e-96a9-35105f789e8d",
    "scrolled": true
   },
   "outputs": [
    {
     "name": "stdout",
     "output_type": "stream",
     "text": [
      "Collecting yfinance\n",
      "  Downloading https://files.pythonhosted.org/packages/7a/e8/b9d7104d3a4bf39924799067592d9e59119fcfc900a425a12e80a3123ec8/yfinance-0.1.55.tar.gz\n",
      "Requirement already satisfied: pandas>=0.24 in /usr/local/lib/python3.6/dist-packages (from yfinance) (1.1.3)\n",
      "Requirement already satisfied: numpy>=1.15 in /usr/local/lib/python3.6/dist-packages (from yfinance) (1.18.5)\n",
      "Requirement already satisfied: requests>=2.20 in /usr/local/lib/python3.6/dist-packages (from yfinance) (2.23.0)\n",
      "Requirement already satisfied: multitasking>=0.0.7 in /usr/local/lib/python3.6/dist-packages (from yfinance) (0.0.9)\n",
      "Collecting lxml>=4.5.1\n",
      "\u001b[?25l  Downloading https://files.pythonhosted.org/packages/64/28/0b761b64ecbd63d272ed0e7a6ae6e4402fc37886b59181bfdf274424d693/lxml-4.6.1-cp36-cp36m-manylinux1_x86_64.whl (5.5MB)\n",
      "\u001b[K     |████████████████████████████████| 5.5MB 4.2MB/s \n",
      "\u001b[?25hRequirement already satisfied: python-dateutil>=2.7.3 in /usr/local/lib/python3.6/dist-packages (from pandas>=0.24->yfinance) (2.8.1)\n",
      "Requirement already satisfied: pytz>=2017.2 in /usr/local/lib/python3.6/dist-packages (from pandas>=0.24->yfinance) (2018.9)\n",
      "Requirement already satisfied: certifi>=2017.4.17 in /usr/local/lib/python3.6/dist-packages (from requests>=2.20->yfinance) (2020.6.20)\n",
      "Requirement already satisfied: idna<3,>=2.5 in /usr/local/lib/python3.6/dist-packages (from requests>=2.20->yfinance) (2.10)\n",
      "Requirement already satisfied: chardet<4,>=3.0.2 in /usr/local/lib/python3.6/dist-packages (from requests>=2.20->yfinance) (3.0.4)\n",
      "Requirement already satisfied: urllib3!=1.25.0,!=1.25.1,<1.26,>=1.21.1 in /usr/local/lib/python3.6/dist-packages (from requests>=2.20->yfinance) (1.24.3)\n",
      "Requirement already satisfied: six>=1.5 in /usr/local/lib/python3.6/dist-packages (from python-dateutil>=2.7.3->pandas>=0.24->yfinance) (1.15.0)\n",
      "Building wheels for collected packages: yfinance\n",
      "  Building wheel for yfinance (setup.py) ... \u001b[?25l\u001b[?25hdone\n",
      "  Created wheel for yfinance: filename=yfinance-0.1.55-py2.py3-none-any.whl size=22618 sha256=dcee81b2bef7d2e8dff8ce269a173224b490be3c926470d55b37f3c34e32732c\n",
      "  Stored in directory: /root/.cache/pip/wheels/04/98/cc/2702a4242d60bdc14f48b4557c427ded1fe92aedf257d4565c\n",
      "Successfully built yfinance\n",
      "Installing collected packages: lxml, yfinance\n",
      "  Found existing installation: lxml 4.2.6\n",
      "    Uninstalling lxml-4.2.6:\n",
      "      Successfully uninstalled lxml-4.2.6\n",
      "Successfully installed lxml-4.6.1 yfinance-0.1.55\n",
      "Requirement already satisfied: pandas in /usr/local/lib/python3.6/dist-packages (1.1.3)\n",
      "Requirement already satisfied: pytz>=2017.2 in /usr/local/lib/python3.6/dist-packages (from pandas) (2018.9)\n",
      "Requirement already satisfied: python-dateutil>=2.7.3 in /usr/local/lib/python3.6/dist-packages (from pandas) (2.8.1)\n",
      "Requirement already satisfied: numpy>=1.15.4 in /usr/local/lib/python3.6/dist-packages (from pandas) (1.18.5)\n",
      "Requirement already satisfied: six>=1.5 in /usr/local/lib/python3.6/dist-packages (from python-dateutil>=2.7.3->pandas) (1.15.0)\n",
      "Requirement already satisfied: numpy in /usr/local/lib/python3.6/dist-packages (1.18.5)\n",
      "Requirement already satisfied: matplotlib in /usr/local/lib/python3.6/dist-packages (3.2.2)\n",
      "Requirement already satisfied: numpy>=1.11 in /usr/local/lib/python3.6/dist-packages (from matplotlib) (1.18.5)\n",
      "Requirement already satisfied: kiwisolver>=1.0.1 in /usr/local/lib/python3.6/dist-packages (from matplotlib) (1.2.0)\n",
      "Requirement already satisfied: pyparsing!=2.0.4,!=2.1.2,!=2.1.6,>=2.0.1 in /usr/local/lib/python3.6/dist-packages (from matplotlib) (2.4.7)\n",
      "Requirement already satisfied: python-dateutil>=2.1 in /usr/local/lib/python3.6/dist-packages (from matplotlib) (2.8.1)\n",
      "Requirement already satisfied: cycler>=0.10 in /usr/local/lib/python3.6/dist-packages (from matplotlib) (0.10.0)\n",
      "Requirement already satisfied: six>=1.5 in /usr/local/lib/python3.6/dist-packages (from python-dateutil>=2.1->matplotlib) (1.15.0)\n",
      "Collecting stockstats\n",
      "  Downloading https://files.pythonhosted.org/packages/32/41/d3828c5bc0a262cb3112a4024108a3b019c183fa3b3078bff34bf25abf91/stockstats-0.3.2-py2.py3-none-any.whl\n",
      "Collecting int-date>=0.1.7\n",
      "  Downloading https://files.pythonhosted.org/packages/43/27/31803df15173ab341fe7548c14154b54227dfd8f630daa09a1c6e7db52f7/int_date-0.1.8-py2.py3-none-any.whl\n",
      "Requirement already satisfied: pandas>=0.18.1 in /usr/local/lib/python3.6/dist-packages (from stockstats) (1.1.3)\n",
      "Requirement already satisfied: numpy>=1.9.2 in /usr/local/lib/python3.6/dist-packages (from stockstats) (1.18.5)\n",
      "Requirement already satisfied: python-dateutil>=2.4.2 in /usr/local/lib/python3.6/dist-packages (from int-date>=0.1.7->stockstats) (2.8.1)\n",
      "Requirement already satisfied: six>=1.9.0 in /usr/local/lib/python3.6/dist-packages (from int-date>=0.1.7->stockstats) (1.15.0)\n",
      "Requirement already satisfied: pytz>=2017.2 in /usr/local/lib/python3.6/dist-packages (from pandas>=0.18.1->stockstats) (2018.9)\n",
      "Installing collected packages: int-date, stockstats\n",
      "Successfully installed int-date-0.1.8 stockstats-0.3.2\n",
      "Requirement already satisfied: gym in /usr/local/lib/python3.6/dist-packages (0.17.3)\n",
      "Requirement already satisfied: numpy>=1.10.4 in /usr/local/lib/python3.6/dist-packages (from gym) (1.18.5)\n",
      "Requirement already satisfied: scipy in /usr/local/lib/python3.6/dist-packages (from gym) (1.4.1)\n",
      "Requirement already satisfied: pyglet<=1.5.0,>=1.4.0 in /usr/local/lib/python3.6/dist-packages (from gym) (1.5.0)\n",
      "Requirement already satisfied: cloudpickle<1.7.0,>=1.2.0 in /usr/local/lib/python3.6/dist-packages (from gym) (1.3.0)\n",
      "Requirement already satisfied: future in /usr/local/lib/python3.6/dist-packages (from pyglet<=1.5.0,>=1.4.0->gym) (0.16.0)\n",
      "Collecting stable-baselines[mpi]\n",
      "\u001b[?25l  Downloading https://files.pythonhosted.org/packages/b0/48/d428b79bd4360727925f9fe34afeea7a9da381da3dc8748df834a349ad1d/stable_baselines-2.10.1-py3-none-any.whl (240kB)\n",
      "\u001b[K     |████████████████████████████████| 245kB 2.8MB/s \n",
      "\u001b[?25hRequirement already satisfied: matplotlib in /usr/local/lib/python3.6/dist-packages (from stable-baselines[mpi]) (3.2.2)\n",
      "Requirement already satisfied: numpy in /usr/local/lib/python3.6/dist-packages (from stable-baselines[mpi]) (1.18.5)\n",
      "Requirement already satisfied: opencv-python in /usr/local/lib/python3.6/dist-packages (from stable-baselines[mpi]) (4.1.2.30)\n",
      "Requirement already satisfied: pandas in /usr/local/lib/python3.6/dist-packages (from stable-baselines[mpi]) (1.1.3)\n",
      "Requirement already satisfied: joblib in /usr/local/lib/python3.6/dist-packages (from stable-baselines[mpi]) (0.17.0)\n",
      "Requirement already satisfied: gym[atari,classic_control]>=0.11 in /usr/local/lib/python3.6/dist-packages (from stable-baselines[mpi]) (0.17.3)\n",
      "Requirement already satisfied: cloudpickle>=0.5.5 in /usr/local/lib/python3.6/dist-packages (from stable-baselines[mpi]) (1.3.0)\n",
      "Requirement already satisfied: scipy in /usr/local/lib/python3.6/dist-packages (from stable-baselines[mpi]) (1.4.1)\n",
      "Collecting mpi4py; extra == \"mpi\"\n",
      "\u001b[?25l  Downloading https://files.pythonhosted.org/packages/ec/8f/bbd8de5ba566dd77e408d8136e2bab7fdf2b97ce06cab830ba8b50a2f588/mpi4py-3.0.3.tar.gz (1.4MB)\n",
      "\u001b[K     |████████████████████████████████| 1.4MB 8.5MB/s \n",
      "\u001b[?25hRequirement already satisfied: kiwisolver>=1.0.1 in /usr/local/lib/python3.6/dist-packages (from matplotlib->stable-baselines[mpi]) (1.2.0)\n",
      "Requirement already satisfied: python-dateutil>=2.1 in /usr/local/lib/python3.6/dist-packages (from matplotlib->stable-baselines[mpi]) (2.8.1)\n",
      "Requirement already satisfied: pyparsing!=2.0.4,!=2.1.2,!=2.1.6,>=2.0.1 in /usr/local/lib/python3.6/dist-packages (from matplotlib->stable-baselines[mpi]) (2.4.7)\n",
      "Requirement already satisfied: cycler>=0.10 in /usr/local/lib/python3.6/dist-packages (from matplotlib->stable-baselines[mpi]) (0.10.0)\n",
      "Requirement already satisfied: pytz>=2017.2 in /usr/local/lib/python3.6/dist-packages (from pandas->stable-baselines[mpi]) (2018.9)\n",
      "Requirement already satisfied: pyglet<=1.5.0,>=1.4.0 in /usr/local/lib/python3.6/dist-packages (from gym[atari,classic_control]>=0.11->stable-baselines[mpi]) (1.5.0)\n",
      "Requirement already satisfied: Pillow; extra == \"atari\" in /usr/local/lib/python3.6/dist-packages (from gym[atari,classic_control]>=0.11->stable-baselines[mpi]) (7.0.0)\n",
      "Requirement already satisfied: atari-py~=0.2.0; extra == \"atari\" in /usr/local/lib/python3.6/dist-packages (from gym[atari,classic_control]>=0.11->stable-baselines[mpi]) (0.2.6)\n",
      "Requirement already satisfied: six>=1.5 in /usr/local/lib/python3.6/dist-packages (from python-dateutil>=2.1->matplotlib->stable-baselines[mpi]) (1.15.0)\n",
      "Requirement already satisfied: future in /usr/local/lib/python3.6/dist-packages (from pyglet<=1.5.0,>=1.4.0->gym[atari,classic_control]>=0.11->stable-baselines[mpi]) (0.16.0)\n",
      "Building wheels for collected packages: mpi4py\n",
      "  Building wheel for mpi4py (setup.py) ... \u001b[?25l\u001b[?25hdone\n",
      "  Created wheel for mpi4py: filename=mpi4py-3.0.3-cp36-cp36m-linux_x86_64.whl size=2074461 sha256=331968b5cb8b0d4a5a24ecffa6b020997051bc75da769126eab46c762f6ababd\n",
      "  Stored in directory: /root/.cache/pip/wheels/18/e0/86/2b713dd512199096012ceca61429e12b960888de59818871d6\n",
      "Successfully built mpi4py\n",
      "Installing collected packages: mpi4py, stable-baselines\n",
      "Successfully installed mpi4py-3.0.3 stable-baselines-2.10.1\n",
      "Collecting tensorflow==1.15.4\n",
      "\u001b[?25l  Downloading https://files.pythonhosted.org/packages/8e/64/7a19837dd54d3f53b1ce5ae346ab401dde9678e8f233220317000bfdb3e2/tensorflow-1.15.4-cp36-cp36m-manylinux2010_x86_64.whl (110.5MB)\n",
      "\u001b[K     |████████████████████████████████| 110.5MB 85kB/s \n",
      "\u001b[?25hRequirement already satisfied: google-pasta>=0.1.6 in /usr/local/lib/python3.6/dist-packages (from tensorflow==1.15.4) (0.2.0)\n",
      "Collecting gast==0.2.2\n",
      "  Downloading https://files.pythonhosted.org/packages/4e/35/11749bf99b2d4e3cceb4d55ca22590b0d7c2c62b9de38ac4a4a7f4687421/gast-0.2.2.tar.gz\n",
      "Collecting tensorboard<1.16.0,>=1.15.0\n",
      "\u001b[?25l  Downloading https://files.pythonhosted.org/packages/1e/e9/d3d747a97f7188f48aa5eda486907f3b345cd409f0a0850468ba867db246/tensorboard-1.15.0-py3-none-any.whl (3.8MB)\n",
      "\u001b[K     |████████████████████████████████| 3.8MB 39.9MB/s \n",
      "\u001b[?25hRequirement already satisfied: protobuf>=3.6.1 in /usr/local/lib/python3.6/dist-packages (from tensorflow==1.15.4) (3.12.4)\n",
      "Requirement already satisfied: grpcio>=1.8.6 in /usr/local/lib/python3.6/dist-packages (from tensorflow==1.15.4) (1.33.1)\n",
      "Collecting keras-applications>=1.0.8\n",
      "\u001b[?25l  Downloading https://files.pythonhosted.org/packages/71/e3/19762fdfc62877ae9102edf6342d71b28fbfd9dea3d2f96a882ce099b03f/Keras_Applications-1.0.8-py3-none-any.whl (50kB)\n",
      "\u001b[K     |████████████████████████████████| 51kB 5.5MB/s \n",
      "\u001b[?25hCollecting tensorflow-estimator==1.15.1\n",
      "\u001b[?25l  Downloading https://files.pythonhosted.org/packages/de/62/2ee9cd74c9fa2fa450877847ba560b260f5d0fb70ee0595203082dafcc9d/tensorflow_estimator-1.15.1-py2.py3-none-any.whl (503kB)\n",
      "\u001b[K     |████████████████████████████████| 512kB 36.8MB/s \n",
      "\u001b[?25hRequirement already satisfied: keras-preprocessing>=1.0.5 in /usr/local/lib/python3.6/dist-packages (from tensorflow==1.15.4) (1.1.2)\n",
      "Requirement already satisfied: termcolor>=1.1.0 in /usr/local/lib/python3.6/dist-packages (from tensorflow==1.15.4) (1.1.0)\n",
      "Requirement already satisfied: numpy<1.19.0,>=1.16.0 in /usr/local/lib/python3.6/dist-packages (from tensorflow==1.15.4) (1.18.5)\n",
      "Requirement already satisfied: six>=1.10.0 in /usr/local/lib/python3.6/dist-packages (from tensorflow==1.15.4) (1.15.0)\n",
      "Requirement already satisfied: wheel>=0.26; python_version >= \"3\" in /usr/local/lib/python3.6/dist-packages (from tensorflow==1.15.4) (0.35.1)\n",
      "Requirement already satisfied: absl-py>=0.7.0 in /usr/local/lib/python3.6/dist-packages (from tensorflow==1.15.4) (0.10.0)\n",
      "Requirement already satisfied: astor>=0.6.0 in /usr/local/lib/python3.6/dist-packages (from tensorflow==1.15.4) (0.8.1)\n",
      "Requirement already satisfied: opt-einsum>=2.3.2 in /usr/local/lib/python3.6/dist-packages (from tensorflow==1.15.4) (3.3.0)\n",
      "Requirement already satisfied: wrapt>=1.11.1 in /usr/local/lib/python3.6/dist-packages (from tensorflow==1.15.4) (1.12.1)\n",
      "Requirement already satisfied: setuptools>=41.0.0 in /usr/local/lib/python3.6/dist-packages (from tensorboard<1.16.0,>=1.15.0->tensorflow==1.15.4) (50.3.2)\n",
      "Requirement already satisfied: markdown>=2.6.8 in /usr/local/lib/python3.6/dist-packages (from tensorboard<1.16.0,>=1.15.0->tensorflow==1.15.4) (3.3.2)\n",
      "Requirement already satisfied: werkzeug>=0.11.15 in /usr/local/lib/python3.6/dist-packages (from tensorboard<1.16.0,>=1.15.0->tensorflow==1.15.4) (1.0.1)\n",
      "Requirement already satisfied: h5py in /usr/local/lib/python3.6/dist-packages (from keras-applications>=1.0.8->tensorflow==1.15.4) (2.10.0)\n",
      "Requirement already satisfied: importlib-metadata; python_version < \"3.8\" in /usr/local/lib/python3.6/dist-packages (from markdown>=2.6.8->tensorboard<1.16.0,>=1.15.0->tensorflow==1.15.4) (2.0.0)\n",
      "Requirement already satisfied: zipp>=0.5 in /usr/local/lib/python3.6/dist-packages (from importlib-metadata; python_version < \"3.8\"->markdown>=2.6.8->tensorboard<1.16.0,>=1.15.0->tensorflow==1.15.4) (3.3.1)\n",
      "Building wheels for collected packages: gast\n",
      "  Building wheel for gast (setup.py) ... \u001b[?25l\u001b[?25hdone\n",
      "  Created wheel for gast: filename=gast-0.2.2-cp36-none-any.whl size=7542 sha256=d5778b53cb7738227b7e863fa6903b6ae0af0b73893529f4530f3457115025c4\n",
      "  Stored in directory: /root/.cache/pip/wheels/5c/2e/7e/a1d4d4fcebe6c381f378ce7743a3ced3699feb89bcfbdadadd\n",
      "Successfully built gast\n",
      "\u001b[31mERROR: tensorflow-probability 0.11.0 has requirement gast>=0.3.2, but you'll have gast 0.2.2 which is incompatible.\u001b[0m\n",
      "Installing collected packages: gast, tensorboard, keras-applications, tensorflow-estimator, tensorflow\n",
      "  Found existing installation: gast 0.3.3\n",
      "    Uninstalling gast-0.3.3:\n",
      "      Successfully uninstalled gast-0.3.3\n",
      "  Found existing installation: tensorboard 2.3.0\n",
      "    Uninstalling tensorboard-2.3.0:\n",
      "      Successfully uninstalled tensorboard-2.3.0\n",
      "  Found existing installation: tensorflow-estimator 2.3.0\n",
      "    Uninstalling tensorflow-estimator-2.3.0:\n",
      "      Successfully uninstalled tensorflow-estimator-2.3.0\n",
      "  Found existing installation: tensorflow 2.3.0\n",
      "    Uninstalling tensorflow-2.3.0:\n",
      "      Successfully uninstalled tensorflow-2.3.0\n",
      "Successfully installed gast-0.2.2 keras-applications-1.0.8 tensorboard-1.15.0 tensorflow-1.15.4 tensorflow-estimator-1.15.1\n",
      "Collecting git+https://github.com/quantopian/pyfolio\n",
      "  Cloning https://github.com/quantopian/pyfolio to /tmp/pip-req-build-c6p1wogj\n",
      "  Running command git clone -q https://github.com/quantopian/pyfolio /tmp/pip-req-build-c6p1wogj\n",
      "Requirement already satisfied: ipython>=3.2.3 in /usr/local/lib/python3.6/dist-packages (from pyfolio==0.9.2+75.g4b901f6) (5.5.0)\n",
      "Requirement already satisfied: matplotlib>=1.4.0 in /usr/local/lib/python3.6/dist-packages (from pyfolio==0.9.2+75.g4b901f6) (3.2.2)\n",
      "Requirement already satisfied: numpy>=1.11.1 in /usr/local/lib/python3.6/dist-packages (from pyfolio==0.9.2+75.g4b901f6) (1.18.5)\n",
      "Requirement already satisfied: pandas>=0.18.1 in /usr/local/lib/python3.6/dist-packages (from pyfolio==0.9.2+75.g4b901f6) (1.1.3)\n",
      "Requirement already satisfied: pytz>=2014.10 in /usr/local/lib/python3.6/dist-packages (from pyfolio==0.9.2+75.g4b901f6) (2018.9)\n",
      "Requirement already satisfied: scipy>=0.14.0 in /usr/local/lib/python3.6/dist-packages (from pyfolio==0.9.2+75.g4b901f6) (1.4.1)\n",
      "Requirement already satisfied: scikit-learn>=0.16.1 in /usr/local/lib/python3.6/dist-packages (from pyfolio==0.9.2+75.g4b901f6) (0.22.2.post1)\n",
      "Requirement already satisfied: seaborn>=0.7.1 in /usr/local/lib/python3.6/dist-packages (from pyfolio==0.9.2+75.g4b901f6) (0.11.0)\n",
      "Collecting empyrical>=0.5.0\n",
      "\u001b[?25l  Downloading https://files.pythonhosted.org/packages/74/43/1b997c21411c6ab7c96dc034e160198272c7a785aeea7654c9bcf98bec83/empyrical-0.5.5.tar.gz (52kB)\n",
      "\u001b[K     |████████████████████████████████| 61kB 1.8MB/s \n",
      "\u001b[?25hRequirement already satisfied: pexpect; sys_platform != \"win32\" in /usr/local/lib/python3.6/dist-packages (from ipython>=3.2.3->pyfolio==0.9.2+75.g4b901f6) (4.8.0)\n",
      "Requirement already satisfied: simplegeneric>0.8 in /usr/local/lib/python3.6/dist-packages (from ipython>=3.2.3->pyfolio==0.9.2+75.g4b901f6) (0.8.1)\n",
      "Requirement already satisfied: prompt-toolkit<2.0.0,>=1.0.4 in /usr/local/lib/python3.6/dist-packages (from ipython>=3.2.3->pyfolio==0.9.2+75.g4b901f6) (1.0.18)\n",
      "Requirement already satisfied: pickleshare in /usr/local/lib/python3.6/dist-packages (from ipython>=3.2.3->pyfolio==0.9.2+75.g4b901f6) (0.7.5)\n",
      "Requirement already satisfied: decorator in /usr/local/lib/python3.6/dist-packages (from ipython>=3.2.3->pyfolio==0.9.2+75.g4b901f6) (4.4.2)\n",
      "Requirement already satisfied: pygments in /usr/local/lib/python3.6/dist-packages (from ipython>=3.2.3->pyfolio==0.9.2+75.g4b901f6) (2.6.1)\n",
      "Requirement already satisfied: traitlets>=4.2 in /usr/local/lib/python3.6/dist-packages (from ipython>=3.2.3->pyfolio==0.9.2+75.g4b901f6) (4.3.3)\n",
      "Requirement already satisfied: setuptools>=18.5 in /usr/local/lib/python3.6/dist-packages (from ipython>=3.2.3->pyfolio==0.9.2+75.g4b901f6) (50.3.2)\n",
      "Requirement already satisfied: pyparsing!=2.0.4,!=2.1.2,!=2.1.6,>=2.0.1 in /usr/local/lib/python3.6/dist-packages (from matplotlib>=1.4.0->pyfolio==0.9.2+75.g4b901f6) (2.4.7)\n",
      "Requirement already satisfied: python-dateutil>=2.1 in /usr/local/lib/python3.6/dist-packages (from matplotlib>=1.4.0->pyfolio==0.9.2+75.g4b901f6) (2.8.1)\n",
      "Requirement already satisfied: kiwisolver>=1.0.1 in /usr/local/lib/python3.6/dist-packages (from matplotlib>=1.4.0->pyfolio==0.9.2+75.g4b901f6) (1.2.0)\n",
      "Requirement already satisfied: cycler>=0.10 in /usr/local/lib/python3.6/dist-packages (from matplotlib>=1.4.0->pyfolio==0.9.2+75.g4b901f6) (0.10.0)\n",
      "Requirement already satisfied: joblib>=0.11 in /usr/local/lib/python3.6/dist-packages (from scikit-learn>=0.16.1->pyfolio==0.9.2+75.g4b901f6) (0.17.0)\n",
      "Requirement already satisfied: pandas-datareader>=0.2 in /usr/local/lib/python3.6/dist-packages (from empyrical>=0.5.0->pyfolio==0.9.2+75.g4b901f6) (0.9.0)\n",
      "Requirement already satisfied: ptyprocess>=0.5 in /usr/local/lib/python3.6/dist-packages (from pexpect; sys_platform != \"win32\"->ipython>=3.2.3->pyfolio==0.9.2+75.g4b901f6) (0.6.0)\n",
      "Requirement already satisfied: six>=1.9.0 in /usr/local/lib/python3.6/dist-packages (from prompt-toolkit<2.0.0,>=1.0.4->ipython>=3.2.3->pyfolio==0.9.2+75.g4b901f6) (1.15.0)\n",
      "Requirement already satisfied: wcwidth in /usr/local/lib/python3.6/dist-packages (from prompt-toolkit<2.0.0,>=1.0.4->ipython>=3.2.3->pyfolio==0.9.2+75.g4b901f6) (0.2.5)\n",
      "Requirement already satisfied: ipython-genutils in /usr/local/lib/python3.6/dist-packages (from traitlets>=4.2->ipython>=3.2.3->pyfolio==0.9.2+75.g4b901f6) (0.2.0)\n",
      "Requirement already satisfied: lxml in /usr/local/lib/python3.6/dist-packages (from pandas-datareader>=0.2->empyrical>=0.5.0->pyfolio==0.9.2+75.g4b901f6) (4.6.1)\n",
      "Requirement already satisfied: requests>=2.19.0 in /usr/local/lib/python3.6/dist-packages (from pandas-datareader>=0.2->empyrical>=0.5.0->pyfolio==0.9.2+75.g4b901f6) (2.23.0)\n",
      "Requirement already satisfied: idna<3,>=2.5 in /usr/local/lib/python3.6/dist-packages (from requests>=2.19.0->pandas-datareader>=0.2->empyrical>=0.5.0->pyfolio==0.9.2+75.g4b901f6) (2.10)\n",
      "Requirement already satisfied: certifi>=2017.4.17 in /usr/local/lib/python3.6/dist-packages (from requests>=2.19.0->pandas-datareader>=0.2->empyrical>=0.5.0->pyfolio==0.9.2+75.g4b901f6) (2020.6.20)\n",
      "Requirement already satisfied: urllib3!=1.25.0,!=1.25.1,<1.26,>=1.21.1 in /usr/local/lib/python3.6/dist-packages (from requests>=2.19.0->pandas-datareader>=0.2->empyrical>=0.5.0->pyfolio==0.9.2+75.g4b901f6) (1.24.3)\n",
      "Requirement already satisfied: chardet<4,>=3.0.2 in /usr/local/lib/python3.6/dist-packages (from requests>=2.19.0->pandas-datareader>=0.2->empyrical>=0.5.0->pyfolio==0.9.2+75.g4b901f6) (3.0.4)\n",
      "Building wheels for collected packages: pyfolio, empyrical\n",
      "  Building wheel for pyfolio (setup.py) ... \u001b[?25l\u001b[?25hdone\n",
      "  Created wheel for pyfolio: filename=pyfolio-0.9.2+75.g4b901f6-cp36-none-any.whl size=75764 sha256=21728994b0ec256aec902e36b89fe0e226e22e85dea4220f03c516b81a869da7\n",
      "  Stored in directory: /tmp/pip-ephem-wheel-cache-turb0l69/wheels/62/7d/a7/3e462442ba7d63c35414176627c886340521dc3dbc0893ce9f\n",
      "  Building wheel for empyrical (setup.py) ... \u001b[?25l\u001b[?25hdone\n",
      "  Created wheel for empyrical: filename=empyrical-0.5.5-cp36-none-any.whl size=39763 sha256=30027cc5bea02873bed61b5fd651ffcc8640204b7eceec1459be4584d41f04dd\n",
      "  Stored in directory: /root/.cache/pip/wheels/ea/b2/c8/6769d8444d2f2e608fae2641833110668d0ffd1abeb2e9f3fc\n",
      "Successfully built pyfolio empyrical\n",
      "Installing collected packages: empyrical, pyfolio\n",
      "Successfully installed empyrical-0.5.5 pyfolio-0.9.2+75.g4b901f6\n"
     ]
    }
   ],
   "source": [
    "import pkg_resources\n",
    "import pip\n",
    "installedPackages = {pkg.key for pkg in pkg_resources.working_set}\n",
    "required = {'yfinance', 'pandas','numpy', 'matplotlib', 'stockstats','stable-baselines','gym','tensorflow','pyfolio'}\n",
    "missing = required - installedPackages\n",
    "if missing:\n",
    "    !pip install yfinance\n",
    "    !pip install pandas\n",
    "    !pip install numpy\n",
    "    !pip install matplotlib\n",
    "    !pip install stockstats\n",
    "    !pip install gym\n",
    "    !pip install stable-baselines[mpi]\n",
    "    !pip install tensorflow==1.15.4\n",
    "    !pip install git+https://github.com/quantopian/pyfolio\n"
   ]
  },
  {
   "cell_type": "markdown",
   "metadata": {
    "id": "nGv01K8Sh1hn"
   },
   "source": [
    "## Import packages"
   ]
  },
  {
   "cell_type": "code",
   "execution_count": 2,
   "metadata": {
    "execution": {
     "iopub.execute_input": "2021-02-17T12:00:18.479991Z",
     "iopub.status.busy": "2021-02-17T12:00:18.479475Z",
     "iopub.status.idle": "2021-02-17T12:00:18.554046Z",
     "shell.execute_reply": "2021-02-17T12:00:18.554046Z",
     "shell.execute_reply.started": "2021-02-17T12:00:18.479991Z"
    },
    "id": "lPqeTTwoh1hn"
   },
   "outputs": [],
   "source": [
    "import pandas as pd\n",
    "import numpy as np\n",
    "import matplotlib\n",
    "import matplotlib.pyplot as plt\n",
    "matplotlib.use('Agg')\n",
    "\n",
    "import yfinance as yf\n",
    "from stockstats import StockDataFrame as Sdf\n",
    "import pyfolio\n",
    "\n",
    "import gym\n",
    "from stable_baselines import PPO2, DDPG, A2C, ACKTR, TD3, TRPO\n",
    "from stable_baselines import DDPG\n",
    "from stable_baselines import A2C\n",
    "from stable_baselines import SAC\n",
    "from stable_baselines.common.vec_env import DummyVecEnv\n",
    "from stable_baselines.common.policies import MlpPolicy\n",
    "from stable_baselines.common.noise import NormalActionNoise, OrnsteinUhlenbeckActionNoise, AdaptiveParamNoiseSpec\n"
   ]
  },
  {
   "cell_type": "markdown",
   "metadata": {
    "id": "A289rQWMh1hq"
   },
   "source": [
    "# Part 1: Download Data\n",
    "Yahoo Finance is a website that provides stock data, financial news, financial reports, etc. All the data provided by Yahoo Finance is free."
   ]
  },
  {
   "cell_type": "code",
   "execution_count": 3,
   "metadata": {
    "execution": {
     "iopub.execute_input": "2021-02-17T12:00:27.792996Z",
     "iopub.status.busy": "2021-02-17T12:00:27.792996Z",
     "iopub.status.idle": "2021-02-17T12:00:27.795998Z",
     "shell.execute_reply": "2021-02-17T12:00:27.795998Z",
     "shell.execute_reply.started": "2021-02-17T12:00:27.792996Z"
    },
    "id": "X2MNEehAh1hq"
   },
   "outputs": [],
   "source": [
    "# Dow 30 constituents at 2019/01/01\n",
    "dow_30_ticker = ['AAPL','MSFT','JPM','V','RTX','PG','GS','NKE','DIS','AXP',\n",
    "                  'HD','INTC','WMT','IBM','MRK','UNH','KO','CAT','TRV','JNJ',\n",
    "                  'CVX','MCD','VZ','CSCO','XOM','BA','MMM','PFE','WBA','DD']"
   ]
  },
  {
   "cell_type": "code",
   "execution_count": 4,
   "metadata": {
    "colab": {
     "base_uri": "https://localhost:8080/"
    },
    "execution": {
     "iopub.execute_input": "2021-02-17T12:00:31.111945Z",
     "iopub.status.busy": "2021-02-17T12:00:31.111945Z",
     "iopub.status.idle": "2021-02-17T12:00:48.894424Z",
     "shell.execute_reply": "2021-02-17T12:00:48.894424Z",
     "shell.execute_reply.started": "2021-02-17T12:00:31.111945Z"
    },
    "id": "TZxcKiCuh1hv",
    "outputId": "c3111ff5-0e42-47f5-e9fe-3c3c5c7f8343"
   },
   "outputs": [
    {
     "name": "stdout",
     "output_type": "stream",
     "text": [
      "[*********************100%***********************]  1 of 1 completed\n",
      "[*********************100%***********************]  1 of 1 completed\n",
      "[*********************100%***********************]  1 of 1 completed\n",
      "[*********************100%***********************]  1 of 1 completed\n",
      "[*********************100%***********************]  1 of 1 completed\n",
      "[*********************100%***********************]  1 of 1 completed\n",
      "[*********************100%***********************]  1 of 1 completed\n",
      "[*********************100%***********************]  1 of 1 completed\n",
      "[*********************100%***********************]  1 of 1 completed\n",
      "[*********************100%***********************]  1 of 1 completed\n",
      "[*********************100%***********************]  1 of 1 completed\n",
      "[*********************100%***********************]  1 of 1 completed\n",
      "[*********************100%***********************]  1 of 1 completed\n",
      "[*********************100%***********************]  1 of 1 completed\n",
      "[*********************100%***********************]  1 of 1 completed\n",
      "[*********************100%***********************]  1 of 1 completed\n",
      "[*********************100%***********************]  1 of 1 completed\n",
      "[*********************100%***********************]  1 of 1 completed\n",
      "[*********************100%***********************]  1 of 1 completed\n",
      "[*********************100%***********************]  1 of 1 completed\n",
      "[*********************100%***********************]  1 of 1 completed\n",
      "[*********************100%***********************]  1 of 1 completed\n",
      "[*********************100%***********************]  1 of 1 completed\n",
      "[*********************100%***********************]  1 of 1 completed\n",
      "[*********************100%***********************]  1 of 1 completed\n",
      "[*********************100%***********************]  1 of 1 completed\n",
      "[*********************100%***********************]  1 of 1 completed\n",
      "[*********************100%***********************]  1 of 1 completed\n",
      "[*********************100%***********************]  1 of 1 completed\n",
      "[*********************100%***********************]  1 of 1 completed\n"
     ]
    }
   ],
   "source": [
    "# Download and save the data in a pandas DataFrame:\n",
    "dow_30 = pd.DataFrame()\n",
    "for tic in dow_30_ticker:\n",
    "    data_df = yf.download(tic, start=\"2009-01-01\", end=\"2020-10-23\")\n",
    "    data_df['tic'] = tic\n",
    "    dow_30=dow_30.append(data_df)"
   ]
  },
  {
   "cell_type": "code",
   "execution_count": 5,
   "metadata": {
    "colab": {
     "base_uri": "https://localhost:8080/"
    },
    "execution": {
     "iopub.execute_input": "2021-02-17T12:02:05.060382Z",
     "iopub.status.busy": "2021-02-17T12:02:05.060382Z",
     "iopub.status.idle": "2021-02-17T12:02:05.064386Z",
     "shell.execute_reply": "2021-02-17T12:02:05.064386Z",
     "shell.execute_reply.started": "2021-02-17T12:02:05.060382Z"
    },
    "id": "CV3HrZHLh1hy",
    "outputId": "4221ab23-b07b-4a1b-f5bb-790ee7ea941e"
   },
   "outputs": [
    {
     "data": {
      "text/plain": [
       "(89191, 7)"
      ]
     },
     "execution_count": 5,
     "metadata": {},
     "output_type": "execute_result"
    }
   ],
   "source": [
    "dow_30.shape"
   ]
  },
  {
   "cell_type": "code",
   "execution_count": 6,
   "metadata": {
    "colab": {
     "base_uri": "https://localhost:8080/",
     "height": 235
    },
    "execution": {
     "iopub.execute_input": "2021-02-17T12:02:10.037687Z",
     "iopub.status.busy": "2021-02-17T12:02:10.037687Z",
     "iopub.status.idle": "2021-02-17T12:02:10.050699Z",
     "shell.execute_reply": "2021-02-17T12:02:10.050699Z",
     "shell.execute_reply.started": "2021-02-17T12:02:10.037687Z"
    },
    "id": "fYeJzIaVh1h1",
    "outputId": "cab23fd0-6b0a-4689-cc78-75a49130762c"
   },
   "outputs": [
    {
     "data": {
      "text/html": [
       "<div>\n",
       "<style scoped>\n",
       "    .dataframe tbody tr th:only-of-type {\n",
       "        vertical-align: middle;\n",
       "    }\n",
       "\n",
       "    .dataframe tbody tr th {\n",
       "        vertical-align: top;\n",
       "    }\n",
       "\n",
       "    .dataframe thead th {\n",
       "        text-align: right;\n",
       "    }\n",
       "</style>\n",
       "<table border=\"1\" class=\"dataframe\">\n",
       "  <thead>\n",
       "    <tr style=\"text-align: right;\">\n",
       "      <th></th>\n",
       "      <th>Open</th>\n",
       "      <th>High</th>\n",
       "      <th>Low</th>\n",
       "      <th>Close</th>\n",
       "      <th>Adj Close</th>\n",
       "      <th>Volume</th>\n",
       "      <th>tic</th>\n",
       "    </tr>\n",
       "    <tr>\n",
       "      <th>Date</th>\n",
       "      <th></th>\n",
       "      <th></th>\n",
       "      <th></th>\n",
       "      <th></th>\n",
       "      <th></th>\n",
       "      <th></th>\n",
       "      <th></th>\n",
       "    </tr>\n",
       "  </thead>\n",
       "  <tbody>\n",
       "    <tr>\n",
       "      <th>2008-12-31</th>\n",
       "      <td>3.070357</td>\n",
       "      <td>3.133571</td>\n",
       "      <td>3.047857</td>\n",
       "      <td>3.048214</td>\n",
       "      <td>2.625620</td>\n",
       "      <td>6.075412e+08</td>\n",
       "      <td>AAPL</td>\n",
       "    </tr>\n",
       "    <tr>\n",
       "      <th>2009-01-02</th>\n",
       "      <td>3.067143</td>\n",
       "      <td>3.251429</td>\n",
       "      <td>3.041429</td>\n",
       "      <td>3.241071</td>\n",
       "      <td>2.791740</td>\n",
       "      <td>7.460152e+08</td>\n",
       "      <td>AAPL</td>\n",
       "    </tr>\n",
       "    <tr>\n",
       "      <th>2009-01-05</th>\n",
       "      <td>3.327500</td>\n",
       "      <td>3.435000</td>\n",
       "      <td>3.311071</td>\n",
       "      <td>3.377857</td>\n",
       "      <td>2.909563</td>\n",
       "      <td>1.181608e+09</td>\n",
       "      <td>AAPL</td>\n",
       "    </tr>\n",
       "    <tr>\n",
       "      <th>2009-01-06</th>\n",
       "      <td>3.426786</td>\n",
       "      <td>3.470357</td>\n",
       "      <td>3.299643</td>\n",
       "      <td>3.322143</td>\n",
       "      <td>2.861573</td>\n",
       "      <td>1.289310e+09</td>\n",
       "      <td>AAPL</td>\n",
       "    </tr>\n",
       "    <tr>\n",
       "      <th>2009-01-07</th>\n",
       "      <td>3.278929</td>\n",
       "      <td>3.303571</td>\n",
       "      <td>3.223571</td>\n",
       "      <td>3.250357</td>\n",
       "      <td>2.799739</td>\n",
       "      <td>7.530488e+08</td>\n",
       "      <td>AAPL</td>\n",
       "    </tr>\n",
       "  </tbody>\n",
       "</table>\n",
       "</div>"
      ],
      "text/plain": [
       "                Open      High       Low     Close  Adj Close        Volume  \\\n",
       "Date                                                                          \n",
       "2008-12-31  3.070357  3.133571  3.047857  3.048214   2.625620  6.075412e+08   \n",
       "2009-01-02  3.067143  3.251429  3.041429  3.241071   2.791740  7.460152e+08   \n",
       "2009-01-05  3.327500  3.435000  3.311071  3.377857   2.909563  1.181608e+09   \n",
       "2009-01-06  3.426786  3.470357  3.299643  3.322143   2.861573  1.289310e+09   \n",
       "2009-01-07  3.278929  3.303571  3.223571  3.250357   2.799739  7.530488e+08   \n",
       "\n",
       "             tic  \n",
       "Date              \n",
       "2008-12-31  AAPL  \n",
       "2009-01-02  AAPL  \n",
       "2009-01-05  AAPL  \n",
       "2009-01-06  AAPL  \n",
       "2009-01-07  AAPL  "
      ]
     },
     "execution_count": 6,
     "metadata": {},
     "output_type": "execute_result"
    }
   ],
   "source": [
    "dow_30.head()"
   ]
  },
  {
   "cell_type": "code",
   "execution_count": 7,
   "metadata": {
    "execution": {
     "iopub.execute_input": "2021-02-17T12:02:17.254003Z",
     "iopub.status.busy": "2021-02-17T12:02:17.253002Z",
     "iopub.status.idle": "2021-02-17T12:02:17.259496Z",
     "shell.execute_reply": "2021-02-17T12:02:17.259007Z",
     "shell.execute_reply.started": "2021-02-17T12:02:17.254003Z"
    },
    "id": "ji8k6gfth1h3"
   },
   "outputs": [],
   "source": [
    "# reset the index, we want to use numbers instead of dates\n",
    "dow_30=dow_30.reset_index()"
   ]
  },
  {
   "cell_type": "code",
   "execution_count": 8,
   "metadata": {
    "execution": {
     "iopub.execute_input": "2021-02-17T12:02:21.014943Z",
     "iopub.status.busy": "2021-02-17T12:02:21.013943Z",
     "iopub.status.idle": "2021-02-17T12:02:21.016945Z",
     "shell.execute_reply": "2021-02-17T12:02:21.016945Z",
     "shell.execute_reply.started": "2021-02-17T12:02:21.014943Z"
    },
    "id": "SS2sZ4d_h1h6"
   },
   "outputs": [],
   "source": [
    "# convert the column names to standardized names\n",
    "dow_30.columns = ['datadate','open','high','low','close','adjcp','volume','tic']"
   ]
  },
  {
   "cell_type": "code",
   "execution_count": 9,
   "metadata": {
    "execution": {
     "iopub.execute_input": "2021-02-17T12:02:26.008504Z",
     "iopub.status.busy": "2021-02-17T12:02:26.008504Z",
     "iopub.status.idle": "2021-02-17T12:02:26.756187Z",
     "shell.execute_reply": "2021-02-17T12:02:26.756187Z",
     "shell.execute_reply.started": "2021-02-17T12:02:26.008504Z"
    },
    "id": "QcFe8zF3h1h8"
   },
   "outputs": [],
   "source": [
    "# convert date to string format, easy to filter\n",
    "dow_30['datadate']=dow_30.datadate.apply(lambda x: x.strftime('%Y-%m-%d'))"
   ]
  },
  {
   "cell_type": "code",
   "execution_count": 10,
   "metadata": {
    "colab": {
     "base_uri": "https://localhost:8080/",
     "height": 204
    },
    "execution": {
     "iopub.execute_input": "2021-02-17T12:02:26.757187Z",
     "iopub.status.busy": "2021-02-17T12:02:26.757187Z",
     "iopub.status.idle": "2021-02-17T12:02:26.765195Z",
     "shell.execute_reply": "2021-02-17T12:02:26.765195Z",
     "shell.execute_reply.started": "2021-02-17T12:02:26.757187Z"
    },
    "id": "f6kMMrDQh1h_",
    "outputId": "b5fca1a7-d250-4c2e-e611-19e61fac6106"
   },
   "outputs": [
    {
     "data": {
      "text/html": [
       "<div>\n",
       "<style scoped>\n",
       "    .dataframe tbody tr th:only-of-type {\n",
       "        vertical-align: middle;\n",
       "    }\n",
       "\n",
       "    .dataframe tbody tr th {\n",
       "        vertical-align: top;\n",
       "    }\n",
       "\n",
       "    .dataframe thead th {\n",
       "        text-align: right;\n",
       "    }\n",
       "</style>\n",
       "<table border=\"1\" class=\"dataframe\">\n",
       "  <thead>\n",
       "    <tr style=\"text-align: right;\">\n",
       "      <th></th>\n",
       "      <th>datadate</th>\n",
       "      <th>open</th>\n",
       "      <th>high</th>\n",
       "      <th>low</th>\n",
       "      <th>close</th>\n",
       "      <th>adjcp</th>\n",
       "      <th>volume</th>\n",
       "      <th>tic</th>\n",
       "    </tr>\n",
       "  </thead>\n",
       "  <tbody>\n",
       "    <tr>\n",
       "      <th>0</th>\n",
       "      <td>2008-12-31</td>\n",
       "      <td>3.070357</td>\n",
       "      <td>3.133571</td>\n",
       "      <td>3.047857</td>\n",
       "      <td>3.048214</td>\n",
       "      <td>2.625620</td>\n",
       "      <td>6.075412e+08</td>\n",
       "      <td>AAPL</td>\n",
       "    </tr>\n",
       "    <tr>\n",
       "      <th>1</th>\n",
       "      <td>2009-01-02</td>\n",
       "      <td>3.067143</td>\n",
       "      <td>3.251429</td>\n",
       "      <td>3.041429</td>\n",
       "      <td>3.241071</td>\n",
       "      <td>2.791740</td>\n",
       "      <td>7.460152e+08</td>\n",
       "      <td>AAPL</td>\n",
       "    </tr>\n",
       "    <tr>\n",
       "      <th>2</th>\n",
       "      <td>2009-01-05</td>\n",
       "      <td>3.327500</td>\n",
       "      <td>3.435000</td>\n",
       "      <td>3.311071</td>\n",
       "      <td>3.377857</td>\n",
       "      <td>2.909563</td>\n",
       "      <td>1.181608e+09</td>\n",
       "      <td>AAPL</td>\n",
       "    </tr>\n",
       "    <tr>\n",
       "      <th>3</th>\n",
       "      <td>2009-01-06</td>\n",
       "      <td>3.426786</td>\n",
       "      <td>3.470357</td>\n",
       "      <td>3.299643</td>\n",
       "      <td>3.322143</td>\n",
       "      <td>2.861573</td>\n",
       "      <td>1.289310e+09</td>\n",
       "      <td>AAPL</td>\n",
       "    </tr>\n",
       "    <tr>\n",
       "      <th>4</th>\n",
       "      <td>2009-01-07</td>\n",
       "      <td>3.278929</td>\n",
       "      <td>3.303571</td>\n",
       "      <td>3.223571</td>\n",
       "      <td>3.250357</td>\n",
       "      <td>2.799739</td>\n",
       "      <td>7.530488e+08</td>\n",
       "      <td>AAPL</td>\n",
       "    </tr>\n",
       "  </tbody>\n",
       "</table>\n",
       "</div>"
      ],
      "text/plain": [
       "     datadate      open      high       low     close     adjcp        volume  \\\n",
       "0  2008-12-31  3.070357  3.133571  3.047857  3.048214  2.625620  6.075412e+08   \n",
       "1  2009-01-02  3.067143  3.251429  3.041429  3.241071  2.791740  7.460152e+08   \n",
       "2  2009-01-05  3.327500  3.435000  3.311071  3.377857  2.909563  1.181608e+09   \n",
       "3  2009-01-06  3.426786  3.470357  3.299643  3.322143  2.861573  1.289310e+09   \n",
       "4  2009-01-07  3.278929  3.303571  3.223571  3.250357  2.799739  7.530488e+08   \n",
       "\n",
       "    tic  \n",
       "0  AAPL  \n",
       "1  AAPL  \n",
       "2  AAPL  \n",
       "3  AAPL  \n",
       "4  AAPL  "
      ]
     },
     "execution_count": 10,
     "metadata": {},
     "output_type": "execute_result"
    }
   ],
   "source": [
    "dow_30.head()"
   ]
  },
  {
   "cell_type": "code",
   "execution_count": 11,
   "metadata": {
    "colab": {
     "base_uri": "https://localhost:8080/"
    },
    "execution": {
     "iopub.execute_input": "2021-02-17T12:02:29.034693Z",
     "iopub.status.busy": "2021-02-17T12:02:29.034693Z",
     "iopub.status.idle": "2021-02-17T12:02:29.037696Z",
     "shell.execute_reply": "2021-02-17T12:02:29.037696Z",
     "shell.execute_reply.started": "2021-02-17T12:02:29.034693Z"
    },
    "id": "kti5dQvBh1iE",
    "outputId": "84132b12-ef9f-4a96-d11b-8855912cffff"
   },
   "outputs": [
    {
     "data": {
      "text/plain": [
       "(89191, 8)"
      ]
     },
     "execution_count": 11,
     "metadata": {},
     "output_type": "execute_result"
    }
   ],
   "source": [
    "dow_30.shape"
   ]
  },
  {
   "cell_type": "markdown",
   "metadata": {
    "id": "uqC6c40Zh1iH"
   },
   "source": [
    "# Part 2: Preprocess Data\n",
    "Data preprocessing is a crucial step for training a high quality machine learning model. We need to check for missing data and do feature engineering in order to convert the data into a model-ready state."
   ]
  },
  {
   "cell_type": "markdown",
   "metadata": {
    "id": "sJ-n0ZnPh1iH"
   },
   "source": [
    "## Check missing data"
   ]
  },
  {
   "cell_type": "code",
   "execution_count": 12,
   "metadata": {
    "colab": {
     "base_uri": "https://localhost:8080/"
    },
    "execution": {
     "iopub.execute_input": "2021-02-17T12:03:18.558272Z",
     "iopub.status.busy": "2021-02-17T12:03:18.558272Z",
     "iopub.status.idle": "2021-02-17T12:03:18.571284Z",
     "shell.execute_reply": "2021-02-17T12:03:18.571284Z",
     "shell.execute_reply.started": "2021-02-17T12:03:18.558272Z"
    },
    "id": "Le342Hc1h1iI",
    "outputId": "04c21ab8-82cf-420d-f422-95b96880fe6d"
   },
   "outputs": [
    {
     "data": {
      "text/plain": [
       "True"
      ]
     },
     "execution_count": 12,
     "metadata": {},
     "output_type": "execute_result"
    }
   ],
   "source": [
    "# check missing data \n",
    "dow_30.isnull().values.any()"
   ]
  },
  {
   "cell_type": "code",
   "execution_count": 13,
   "metadata": {
    "execution": {
     "iopub.execute_input": "2021-02-17T12:03:19.908211Z",
     "iopub.status.busy": "2021-02-17T12:03:19.908211Z",
     "iopub.status.idle": "2021-02-17T12:03:19.965263Z",
     "shell.execute_reply": "2021-02-17T12:03:19.963261Z",
     "shell.execute_reply.started": "2021-02-17T12:03:19.908211Z"
    },
    "id": "7j4KFI3Uh1iK"
   },
   "outputs": [],
   "source": [
    "dow_30=dow_30.dropna()"
   ]
  },
  {
   "cell_type": "code",
   "execution_count": 14,
   "metadata": {
    "colab": {
     "base_uri": "https://localhost:8080/"
    },
    "execution": {
     "iopub.execute_input": "2021-02-17T12:03:22.246832Z",
     "iopub.status.busy": "2021-02-17T12:03:22.246832Z",
     "iopub.status.idle": "2021-02-17T12:03:22.257842Z",
     "shell.execute_reply": "2021-02-17T12:03:22.257842Z",
     "shell.execute_reply.started": "2021-02-17T12:03:22.246832Z"
    },
    "id": "ShFsAjbjitOU",
    "outputId": "a256317a-79e3-457c-8589-0f7b06596141"
   },
   "outputs": [
    {
     "data": {
      "text/plain": [
       "MRK     2973\n",
       "PFE     2973\n",
       "JNJ     2973\n",
       "DIS     2973\n",
       "HD      2973\n",
       "NKE     2973\n",
       "MSFT    2973\n",
       "VZ      2973\n",
       "INTC    2973\n",
       "PG      2973\n",
       "UNH     2973\n",
       "KO      2973\n",
       "WBA     2973\n",
       "IBM     2973\n",
       "CVX     2973\n",
       "CSCO    2973\n",
       "JPM     2973\n",
       "DD      2973\n",
       "WMT     2973\n",
       "RTX     2973\n",
       "MCD     2973\n",
       "AAPL    2973\n",
       "MMM     2973\n",
       "GS      2973\n",
       "XOM     2973\n",
       "CAT     2973\n",
       "V       2973\n",
       "TRV     2973\n",
       "BA      2973\n",
       "AXP     2973\n",
       "Name: tic, dtype: int64"
      ]
     },
     "execution_count": 14,
     "metadata": {},
     "output_type": "execute_result"
    }
   ],
   "source": [
    "dow_30.tic.value_counts()"
   ]
  },
  {
   "cell_type": "code",
   "execution_count": 15,
   "metadata": {
    "colab": {
     "base_uri": "https://localhost:8080/"
    },
    "execution": {
     "iopub.execute_input": "2021-02-17T12:03:25.217968Z",
     "iopub.status.busy": "2021-02-17T12:03:25.216966Z",
     "iopub.status.idle": "2021-02-17T12:03:25.227977Z",
     "shell.execute_reply": "2021-02-17T12:03:25.227977Z",
     "shell.execute_reply.started": "2021-02-17T12:03:25.217968Z"
    },
    "id": "WAjH-SPOh1iN",
    "outputId": "962f9589-8e7a-4a4b-9b6c-62666a0fcd0f"
   },
   "outputs": [
    {
     "data": {
      "text/plain": [
       "False"
      ]
     },
     "execution_count": 15,
     "metadata": {},
     "output_type": "execute_result"
    }
   ],
   "source": [
    "# check missing data \n",
    "dow_30.isnull().values.any()"
   ]
  },
  {
   "cell_type": "markdown",
   "metadata": {
    "id": "zNm1eCFRh1iP"
   },
   "source": [
    "## Add technical indicators\n",
    "In practical trading, various information needs to be taken into account, for example the historical stock prices, current holding shares, technical indicators, etc. In this article, we demonstrate two trend-following technical indicators: MACD and RSI."
   ]
  },
  {
   "cell_type": "code",
   "execution_count": 16,
   "metadata": {
    "execution": {
     "iopub.execute_input": "2021-02-17T12:03:34.912856Z",
     "iopub.status.busy": "2021-02-17T12:03:34.912856Z",
     "iopub.status.idle": "2021-02-17T12:03:34.917860Z",
     "shell.execute_reply": "2021-02-17T12:03:34.917860Z",
     "shell.execute_reply.started": "2021-02-17T12:03:34.912856Z"
    },
    "id": "zHKY4sGxh1iQ"
   },
   "outputs": [],
   "source": [
    "def add_technical_indicator(df):\n",
    "        \"\"\"\n",
    "        calcualte technical indicators\n",
    "        use stockstats package to add technical inidactors\n",
    "        :param data: (df) pandas dataframe\n",
    "        :return: (df) pandas dataframe\n",
    "        \"\"\"\n",
    "        stock = Sdf.retype(df.copy())\n",
    "        stock['close'] = stock['adjcp']\n",
    "        unique_ticker = stock.tic.unique()\n",
    "\n",
    "        macd = pd.DataFrame()\n",
    "        rsi = pd.DataFrame()\n",
    "\n",
    "        #temp = stock[stock.tic == unique_ticker[0]]['macd']\n",
    "        for i in range(len(unique_ticker)):\n",
    "            ## macd\n",
    "            temp_macd = stock[stock.tic == unique_ticker[i]]['macd']\n",
    "            temp_macd = pd.DataFrame(temp_macd)\n",
    "            macd = macd.append(temp_macd, ignore_index=True)\n",
    "            ## rsi\n",
    "            temp_rsi = stock[stock.tic == unique_ticker[i]]['rsi_30']\n",
    "            temp_rsi = pd.DataFrame(temp_rsi)\n",
    "            rsi = rsi.append(temp_rsi, ignore_index=True)\n",
    "\n",
    "        df['macd'] = macd\n",
    "        df['rsi'] = rsi\n",
    "        return df"
   ]
  },
  {
   "cell_type": "code",
   "execution_count": 17,
   "metadata": {
    "execution": {
     "iopub.execute_input": "2021-02-17T12:03:36.261588Z",
     "iopub.status.busy": "2021-02-17T12:03:36.261588Z",
     "iopub.status.idle": "2021-02-17T12:03:36.966228Z",
     "shell.execute_reply": "2021-02-17T12:03:36.966228Z",
     "shell.execute_reply.started": "2021-02-17T12:03:36.261588Z"
    },
    "id": "WpVbCOz9h1iS",
    "scrolled": true
   },
   "outputs": [],
   "source": [
    "dow_30 = add_technical_indicator(dow_30)"
   ]
  },
  {
   "cell_type": "code",
   "execution_count": 18,
   "metadata": {
    "colab": {
     "base_uri": "https://localhost:8080/"
    },
    "execution": {
     "iopub.execute_input": "2021-02-17T12:03:38.921513Z",
     "iopub.status.busy": "2021-02-17T12:03:38.921513Z",
     "iopub.status.idle": "2021-02-17T12:03:38.924516Z",
     "shell.execute_reply": "2021-02-17T12:03:38.924516Z",
     "shell.execute_reply.started": "2021-02-17T12:03:38.921513Z"
    },
    "id": "58lmCFfHh1iU",
    "outputId": "09491ed3-a6a7-4322-ba27-bcc7d6165745"
   },
   "outputs": [
    {
     "data": {
      "text/plain": [
       "(89190, 10)"
      ]
     },
     "execution_count": 18,
     "metadata": {},
     "output_type": "execute_result"
    }
   ],
   "source": [
    "dow_30.shape\n"
   ]
  },
  {
   "cell_type": "code",
   "execution_count": 19,
   "metadata": {
    "colab": {
     "base_uri": "https://localhost:8080/",
     "height": 204
    },
    "execution": {
     "iopub.execute_input": "2021-02-17T12:03:41.255204Z",
     "iopub.status.busy": "2021-02-17T12:03:41.254203Z",
     "iopub.status.idle": "2021-02-17T12:03:41.268217Z",
     "shell.execute_reply": "2021-02-17T12:03:41.267215Z",
     "shell.execute_reply.started": "2021-02-17T12:03:41.255204Z"
    },
    "id": "waMYQ2Xrh1iX",
    "outputId": "fe3d565e-d82d-40f5-9015-799aeabd1c96"
   },
   "outputs": [
    {
     "data": {
      "text/html": [
       "<div>\n",
       "<style scoped>\n",
       "    .dataframe tbody tr th:only-of-type {\n",
       "        vertical-align: middle;\n",
       "    }\n",
       "\n",
       "    .dataframe tbody tr th {\n",
       "        vertical-align: top;\n",
       "    }\n",
       "\n",
       "    .dataframe thead th {\n",
       "        text-align: right;\n",
       "    }\n",
       "</style>\n",
       "<table border=\"1\" class=\"dataframe\">\n",
       "  <thead>\n",
       "    <tr style=\"text-align: right;\">\n",
       "      <th></th>\n",
       "      <th>datadate</th>\n",
       "      <th>open</th>\n",
       "      <th>high</th>\n",
       "      <th>low</th>\n",
       "      <th>close</th>\n",
       "      <th>adjcp</th>\n",
       "      <th>volume</th>\n",
       "      <th>tic</th>\n",
       "      <th>macd</th>\n",
       "      <th>rsi</th>\n",
       "    </tr>\n",
       "  </thead>\n",
       "  <tbody>\n",
       "    <tr>\n",
       "      <th>0</th>\n",
       "      <td>2008-12-31</td>\n",
       "      <td>3.070357</td>\n",
       "      <td>3.133571</td>\n",
       "      <td>3.047857</td>\n",
       "      <td>3.048214</td>\n",
       "      <td>2.625620</td>\n",
       "      <td>6.075412e+08</td>\n",
       "      <td>AAPL</td>\n",
       "      <td>0.000000</td>\n",
       "      <td>NaN</td>\n",
       "    </tr>\n",
       "    <tr>\n",
       "      <th>1</th>\n",
       "      <td>2009-01-02</td>\n",
       "      <td>3.067143</td>\n",
       "      <td>3.251429</td>\n",
       "      <td>3.041429</td>\n",
       "      <td>3.241071</td>\n",
       "      <td>2.791740</td>\n",
       "      <td>7.460152e+08</td>\n",
       "      <td>AAPL</td>\n",
       "      <td>0.003727</td>\n",
       "      <td>100.000000</td>\n",
       "    </tr>\n",
       "    <tr>\n",
       "      <th>2</th>\n",
       "      <td>2009-01-05</td>\n",
       "      <td>3.327500</td>\n",
       "      <td>3.435000</td>\n",
       "      <td>3.311071</td>\n",
       "      <td>3.377857</td>\n",
       "      <td>2.909563</td>\n",
       "      <td>1.181608e+09</td>\n",
       "      <td>AAPL</td>\n",
       "      <td>0.008403</td>\n",
       "      <td>100.000000</td>\n",
       "    </tr>\n",
       "    <tr>\n",
       "      <th>3</th>\n",
       "      <td>2009-01-06</td>\n",
       "      <td>3.426786</td>\n",
       "      <td>3.470357</td>\n",
       "      <td>3.299643</td>\n",
       "      <td>3.322143</td>\n",
       "      <td>2.861573</td>\n",
       "      <td>1.289310e+09</td>\n",
       "      <td>AAPL</td>\n",
       "      <td>0.008591</td>\n",
       "      <td>84.866792</td>\n",
       "    </tr>\n",
       "    <tr>\n",
       "      <th>4</th>\n",
       "      <td>2009-01-07</td>\n",
       "      <td>3.278929</td>\n",
       "      <td>3.303571</td>\n",
       "      <td>3.223571</td>\n",
       "      <td>3.250357</td>\n",
       "      <td>2.799739</td>\n",
       "      <td>7.530488e+08</td>\n",
       "      <td>AAPL</td>\n",
       "      <td>0.006051</td>\n",
       "      <td>70.621528</td>\n",
       "    </tr>\n",
       "  </tbody>\n",
       "</table>\n",
       "</div>"
      ],
      "text/plain": [
       "     datadate      open      high       low     close     adjcp        volume  \\\n",
       "0  2008-12-31  3.070357  3.133571  3.047857  3.048214  2.625620  6.075412e+08   \n",
       "1  2009-01-02  3.067143  3.251429  3.041429  3.241071  2.791740  7.460152e+08   \n",
       "2  2009-01-05  3.327500  3.435000  3.311071  3.377857  2.909563  1.181608e+09   \n",
       "3  2009-01-06  3.426786  3.470357  3.299643  3.322143  2.861573  1.289310e+09   \n",
       "4  2009-01-07  3.278929  3.303571  3.223571  3.250357  2.799739  7.530488e+08   \n",
       "\n",
       "    tic      macd         rsi  \n",
       "0  AAPL  0.000000         NaN  \n",
       "1  AAPL  0.003727  100.000000  \n",
       "2  AAPL  0.008403  100.000000  \n",
       "3  AAPL  0.008591   84.866792  \n",
       "4  AAPL  0.006051   70.621528  "
      ]
     },
     "execution_count": 19,
     "metadata": {},
     "output_type": "execute_result"
    }
   ],
   "source": [
    "dow_30.head()"
   ]
  },
  {
   "cell_type": "code",
   "execution_count": 20,
   "metadata": {
    "colab": {
     "base_uri": "https://localhost:8080/",
     "height": 204
    },
    "execution": {
     "iopub.execute_input": "2021-02-17T12:03:46.070103Z",
     "iopub.status.busy": "2021-02-17T12:03:46.070103Z",
     "iopub.status.idle": "2021-02-17T12:03:46.113142Z",
     "shell.execute_reply": "2021-02-17T12:03:46.113142Z",
     "shell.execute_reply.started": "2021-02-17T12:03:46.070103Z"
    },
    "id": "XnSmCG5Kh1iZ",
    "outputId": "6e8ec43d-09c4-4fc1-909b-ca9fc257cdc7"
   },
   "outputs": [
    {
     "data": {
      "text/html": [
       "<div>\n",
       "<style scoped>\n",
       "    .dataframe tbody tr th:only-of-type {\n",
       "        vertical-align: middle;\n",
       "    }\n",
       "\n",
       "    .dataframe tbody tr th {\n",
       "        vertical-align: top;\n",
       "    }\n",
       "\n",
       "    .dataframe thead th {\n",
       "        text-align: right;\n",
       "    }\n",
       "</style>\n",
       "<table border=\"1\" class=\"dataframe\">\n",
       "  <thead>\n",
       "    <tr style=\"text-align: right;\">\n",
       "      <th></th>\n",
       "      <th>datadate</th>\n",
       "      <th>open</th>\n",
       "      <th>high</th>\n",
       "      <th>low</th>\n",
       "      <th>close</th>\n",
       "      <th>adjcp</th>\n",
       "      <th>volume</th>\n",
       "      <th>tic</th>\n",
       "      <th>macd</th>\n",
       "      <th>rsi</th>\n",
       "    </tr>\n",
       "  </thead>\n",
       "  <tbody>\n",
       "    <tr>\n",
       "      <th>89186</th>\n",
       "      <td>2020-10-15</td>\n",
       "      <td>57.990002</td>\n",
       "      <td>59.450001</td>\n",
       "      <td>57.669998</td>\n",
       "      <td>59.279999</td>\n",
       "      <td>59.005932</td>\n",
       "      <td>2952600.0</td>\n",
       "      <td>DD</td>\n",
       "      <td>0.592267</td>\n",
       "      <td>55.558787</td>\n",
       "    </tr>\n",
       "    <tr>\n",
       "      <th>89187</th>\n",
       "      <td>2020-10-16</td>\n",
       "      <td>59.450001</td>\n",
       "      <td>59.939999</td>\n",
       "      <td>58.930000</td>\n",
       "      <td>59.169998</td>\n",
       "      <td>58.896442</td>\n",
       "      <td>2805300.0</td>\n",
       "      <td>DD</td>\n",
       "      <td>0.576161</td>\n",
       "      <td>54.004841</td>\n",
       "    </tr>\n",
       "    <tr>\n",
       "      <th>89188</th>\n",
       "      <td>2020-10-19</td>\n",
       "      <td>59.349998</td>\n",
       "      <td>60.209999</td>\n",
       "      <td>58.209999</td>\n",
       "      <td>58.439999</td>\n",
       "      <td>58.169815</td>\n",
       "      <td>3827900.0</td>\n",
       "      <td>DD</td>\n",
       "      <td>0.639557</td>\n",
       "      <td>55.825740</td>\n",
       "    </tr>\n",
       "    <tr>\n",
       "      <th>89189</th>\n",
       "      <td>2020-10-20</td>\n",
       "      <td>58.680000</td>\n",
       "      <td>60.099998</td>\n",
       "      <td>58.549999</td>\n",
       "      <td>59.480000</td>\n",
       "      <td>59.205009</td>\n",
       "      <td>3722700.0</td>\n",
       "      <td>DD</td>\n",
       "      <td>0.616827</td>\n",
       "      <td>54.079482</td>\n",
       "    </tr>\n",
       "    <tr>\n",
       "      <th>89190</th>\n",
       "      <td>2020-10-21</td>\n",
       "      <td>59.160000</td>\n",
       "      <td>60.070000</td>\n",
       "      <td>58.570000</td>\n",
       "      <td>58.660000</td>\n",
       "      <td>58.388802</td>\n",
       "      <td>4201800.0</td>\n",
       "      <td>DD</td>\n",
       "      <td>NaN</td>\n",
       "      <td>NaN</td>\n",
       "    </tr>\n",
       "  </tbody>\n",
       "</table>\n",
       "</div>"
      ],
      "text/plain": [
       "         datadate       open       high        low      close      adjcp  \\\n",
       "89186  2020-10-15  57.990002  59.450001  57.669998  59.279999  59.005932   \n",
       "89187  2020-10-16  59.450001  59.939999  58.930000  59.169998  58.896442   \n",
       "89188  2020-10-19  59.349998  60.209999  58.209999  58.439999  58.169815   \n",
       "89189  2020-10-20  58.680000  60.099998  58.549999  59.480000  59.205009   \n",
       "89190  2020-10-21  59.160000  60.070000  58.570000  58.660000  58.388802   \n",
       "\n",
       "          volume tic      macd        rsi  \n",
       "89186  2952600.0  DD  0.592267  55.558787  \n",
       "89187  2805300.0  DD  0.576161  54.004841  \n",
       "89188  3827900.0  DD  0.639557  55.825740  \n",
       "89189  3722700.0  DD  0.616827  54.079482  \n",
       "89190  4201800.0  DD       NaN        NaN  "
      ]
     },
     "execution_count": 20,
     "metadata": {},
     "output_type": "execute_result"
    }
   ],
   "source": [
    "dow_30.tail()"
   ]
  },
  {
   "cell_type": "code",
   "execution_count": 21,
   "metadata": {
    "colab": {
     "base_uri": "https://localhost:8080/"
    },
    "execution": {
     "iopub.execute_input": "2021-02-17T12:03:47.632034Z",
     "iopub.status.busy": "2021-02-17T12:03:47.632034Z",
     "iopub.status.idle": "2021-02-17T12:03:47.677049Z",
     "shell.execute_reply": "2021-02-17T12:03:47.676048Z",
     "shell.execute_reply.started": "2021-02-17T12:03:47.632034Z"
    },
    "id": "D1w15h8Fh1ib",
    "outputId": "9aa83ba3-9668-4270-e645-b57834142b5c"
   },
   "outputs": [
    {
     "data": {
      "text/plain": [
       "True"
      ]
     },
     "execution_count": 21,
     "metadata": {},
     "output_type": "execute_result"
    }
   ],
   "source": [
    "# check missing data \n",
    "dow_30.isnull().values.any()"
   ]
  },
  {
   "cell_type": "code",
   "execution_count": 22,
   "metadata": {
    "colab": {
     "base_uri": "https://localhost:8080/"
    },
    "execution": {
     "iopub.execute_input": "2021-02-17T12:03:49.221261Z",
     "iopub.status.busy": "2021-02-17T12:03:49.221261Z",
     "iopub.status.idle": "2021-02-17T12:03:49.235274Z",
     "shell.execute_reply": "2021-02-17T12:03:49.235274Z",
     "shell.execute_reply.started": "2021-02-17T12:03:49.221261Z"
    },
    "id": "tez5y38xh1ie",
    "outputId": "ccf8f34f-82fb-4746-8a75-c6751f98184f"
   },
   "outputs": [
    {
     "data": {
      "text/plain": [
       "datadate    False\n",
       "open        False\n",
       "high        False\n",
       "low         False\n",
       "close       False\n",
       "adjcp       False\n",
       "volume      False\n",
       "tic         False\n",
       "macd         True\n",
       "rsi          True\n",
       "dtype: bool"
      ]
     },
     "execution_count": 22,
     "metadata": {},
     "output_type": "execute_result"
    }
   ],
   "source": [
    "dow_30.isna().any()"
   ]
  },
  {
   "cell_type": "code",
   "execution_count": 23,
   "metadata": {
    "execution": {
     "iopub.execute_input": "2021-02-17T12:03:52.179922Z",
     "iopub.status.busy": "2021-02-17T12:03:52.178921Z",
     "iopub.status.idle": "2021-02-17T12:03:52.235973Z",
     "shell.execute_reply": "2021-02-17T12:03:52.234972Z",
     "shell.execute_reply.started": "2021-02-17T12:03:52.179922Z"
    },
    "id": "Wx0xF6O7h1ig"
   },
   "outputs": [],
   "source": [
    "# fill missing data with forward filling and backward filling\n",
    "dow_30=dow_30.fillna(method='ffill')\n",
    "dow_30=dow_30.fillna(method='bfill')\n"
   ]
  },
  {
   "cell_type": "code",
   "execution_count": 24,
   "metadata": {
    "colab": {
     "base_uri": "https://localhost:8080/"
    },
    "execution": {
     "iopub.execute_input": "2021-02-17T12:04:04.651434Z",
     "iopub.status.busy": "2021-02-17T12:04:04.651434Z",
     "iopub.status.idle": "2021-02-17T12:04:04.663445Z",
     "shell.execute_reply": "2021-02-17T12:04:04.663445Z",
     "shell.execute_reply.started": "2021-02-17T12:04:04.651434Z"
    },
    "id": "9uLP0bqzh1ii",
    "outputId": "f7e56709-f31b-49ae-f78b-4d75b60bf615"
   },
   "outputs": [
    {
     "data": {
      "text/plain": [
       "False"
      ]
     },
     "execution_count": 24,
     "metadata": {},
     "output_type": "execute_result"
    }
   ],
   "source": [
    "# check missing data \n",
    "dow_30.isnull().values.any()"
   ]
  },
  {
   "cell_type": "code",
   "execution_count": 25,
   "metadata": {
    "colab": {
     "base_uri": "https://localhost:8080/",
     "height": 204
    },
    "execution": {
     "iopub.execute_input": "2021-02-17T12:04:06.389320Z",
     "iopub.status.busy": "2021-02-17T12:04:06.389320Z",
     "iopub.status.idle": "2021-02-17T12:04:06.400331Z",
     "shell.execute_reply": "2021-02-17T12:04:06.400331Z",
     "shell.execute_reply.started": "2021-02-17T12:04:06.389320Z"
    },
    "id": "4qyebQGAh1ik",
    "outputId": "41878124-17cd-468f-e732-49b1bbf0a695"
   },
   "outputs": [
    {
     "data": {
      "text/html": [
       "<div>\n",
       "<style scoped>\n",
       "    .dataframe tbody tr th:only-of-type {\n",
       "        vertical-align: middle;\n",
       "    }\n",
       "\n",
       "    .dataframe tbody tr th {\n",
       "        vertical-align: top;\n",
       "    }\n",
       "\n",
       "    .dataframe thead th {\n",
       "        text-align: right;\n",
       "    }\n",
       "</style>\n",
       "<table border=\"1\" class=\"dataframe\">\n",
       "  <thead>\n",
       "    <tr style=\"text-align: right;\">\n",
       "      <th></th>\n",
       "      <th>datadate</th>\n",
       "      <th>open</th>\n",
       "      <th>high</th>\n",
       "      <th>low</th>\n",
       "      <th>close</th>\n",
       "      <th>adjcp</th>\n",
       "      <th>volume</th>\n",
       "      <th>tic</th>\n",
       "      <th>macd</th>\n",
       "      <th>rsi</th>\n",
       "    </tr>\n",
       "  </thead>\n",
       "  <tbody>\n",
       "    <tr>\n",
       "      <th>89186</th>\n",
       "      <td>2020-10-15</td>\n",
       "      <td>57.990002</td>\n",
       "      <td>59.450001</td>\n",
       "      <td>57.669998</td>\n",
       "      <td>59.279999</td>\n",
       "      <td>59.005932</td>\n",
       "      <td>2952600.0</td>\n",
       "      <td>DD</td>\n",
       "      <td>0.592267</td>\n",
       "      <td>55.558787</td>\n",
       "    </tr>\n",
       "    <tr>\n",
       "      <th>89187</th>\n",
       "      <td>2020-10-16</td>\n",
       "      <td>59.450001</td>\n",
       "      <td>59.939999</td>\n",
       "      <td>58.930000</td>\n",
       "      <td>59.169998</td>\n",
       "      <td>58.896442</td>\n",
       "      <td>2805300.0</td>\n",
       "      <td>DD</td>\n",
       "      <td>0.576161</td>\n",
       "      <td>54.004841</td>\n",
       "    </tr>\n",
       "    <tr>\n",
       "      <th>89188</th>\n",
       "      <td>2020-10-19</td>\n",
       "      <td>59.349998</td>\n",
       "      <td>60.209999</td>\n",
       "      <td>58.209999</td>\n",
       "      <td>58.439999</td>\n",
       "      <td>58.169815</td>\n",
       "      <td>3827900.0</td>\n",
       "      <td>DD</td>\n",
       "      <td>0.639557</td>\n",
       "      <td>55.825740</td>\n",
       "    </tr>\n",
       "    <tr>\n",
       "      <th>89189</th>\n",
       "      <td>2020-10-20</td>\n",
       "      <td>58.680000</td>\n",
       "      <td>60.099998</td>\n",
       "      <td>58.549999</td>\n",
       "      <td>59.480000</td>\n",
       "      <td>59.205009</td>\n",
       "      <td>3722700.0</td>\n",
       "      <td>DD</td>\n",
       "      <td>0.616827</td>\n",
       "      <td>54.079482</td>\n",
       "    </tr>\n",
       "    <tr>\n",
       "      <th>89190</th>\n",
       "      <td>2020-10-21</td>\n",
       "      <td>59.160000</td>\n",
       "      <td>60.070000</td>\n",
       "      <td>58.570000</td>\n",
       "      <td>58.660000</td>\n",
       "      <td>58.388802</td>\n",
       "      <td>4201800.0</td>\n",
       "      <td>DD</td>\n",
       "      <td>0.616827</td>\n",
       "      <td>54.079482</td>\n",
       "    </tr>\n",
       "  </tbody>\n",
       "</table>\n",
       "</div>"
      ],
      "text/plain": [
       "         datadate       open       high        low      close      adjcp  \\\n",
       "89186  2020-10-15  57.990002  59.450001  57.669998  59.279999  59.005932   \n",
       "89187  2020-10-16  59.450001  59.939999  58.930000  59.169998  58.896442   \n",
       "89188  2020-10-19  59.349998  60.209999  58.209999  58.439999  58.169815   \n",
       "89189  2020-10-20  58.680000  60.099998  58.549999  59.480000  59.205009   \n",
       "89190  2020-10-21  59.160000  60.070000  58.570000  58.660000  58.388802   \n",
       "\n",
       "          volume tic      macd        rsi  \n",
       "89186  2952600.0  DD  0.592267  55.558787  \n",
       "89187  2805300.0  DD  0.576161  54.004841  \n",
       "89188  3827900.0  DD  0.639557  55.825740  \n",
       "89189  3722700.0  DD  0.616827  54.079482  \n",
       "89190  4201800.0  DD  0.616827  54.079482  "
      ]
     },
     "execution_count": 25,
     "metadata": {},
     "output_type": "execute_result"
    }
   ],
   "source": [
    "dow_30.tail()"
   ]
  },
  {
   "cell_type": "markdown",
   "metadata": {
    "id": "qL4wcaT-h1im"
   },
   "source": [
    "## Add turbulence index\n",
    "Risk-aversion reflects whether an investor will choose to preserve the capital. It also influences one's trading strategy when facing different market volatility level.\n",
    "\n",
    "To control the risk in a worst-case scenario, such as financial crisis of 2007–2008, FinRL employs the financial turbulence index that measures extreme asset price fluctuation."
   ]
  },
  {
   "cell_type": "code",
   "execution_count": 26,
   "metadata": {
    "execution": {
     "iopub.execute_input": "2021-02-17T12:04:15.523438Z",
     "iopub.status.busy": "2021-02-17T12:04:15.523438Z",
     "iopub.status.idle": "2021-02-17T12:04:15.533446Z",
     "shell.execute_reply": "2021-02-17T12:04:15.533446Z",
     "shell.execute_reply.started": "2021-02-17T12:04:15.523438Z"
    },
    "id": "70-XFED3h1in"
   },
   "outputs": [],
   "source": [
    "def add_turbulence(df):\n",
    "    \"\"\"\n",
    "    add turbulence index from a precalcualted dataframe\n",
    "    :param data: (df) pandas dataframe\n",
    "    :return: (df) pandas dataframe\n",
    "    \"\"\"\n",
    "    turbulence_index = calcualte_turbulence(df)\n",
    "    df = df.merge(turbulence_index, on='datadate')\n",
    "    df = df.sort_values(['datadate','tic']).reset_index(drop=True)\n",
    "    return df\n",
    "\n",
    "\n",
    "\n",
    "def calcualte_turbulence(df):\n",
    "    \"\"\"calculate turbulence index based on dow 30\"\"\"\n",
    "    # can add other market assets\n",
    "    \n",
    "    df_price_pivot=df.pivot(index='datadate', columns='tic', values='adjcp')\n",
    "    unique_date = df.datadate.unique()\n",
    "    # start after a year\n",
    "    start = 252\n",
    "    turbulence_index = [0]*start\n",
    "    #turbulence_index = [0]\n",
    "    count=0\n",
    "    for i in range(start,len(unique_date)):\n",
    "        current_price = df_price_pivot[df_price_pivot.index == unique_date[i]]\n",
    "        hist_price = df_price_pivot[[n in unique_date[0:i] for n in df_price_pivot.index ]]\n",
    "        cov_temp = hist_price.cov()\n",
    "        current_temp=(current_price - np.mean(hist_price,axis=0))\n",
    "        temp = current_temp.values.dot(np.linalg.inv(cov_temp)).dot(current_temp.values.T)\n",
    "        if temp>0:\n",
    "            count+=1\n",
    "            if count>2:\n",
    "                turbulence_temp = temp[0][0]\n",
    "            else:\n",
    "                #avoid large outlier because of the calculation just begins\n",
    "                turbulence_temp=0\n",
    "        else:\n",
    "            turbulence_temp=0\n",
    "        turbulence_index.append(turbulence_temp)\n",
    "    \n",
    "    \n",
    "    turbulence_index = pd.DataFrame({'datadate':df_price_pivot.index,\n",
    "                                     'turbulence':turbulence_index})\n",
    "    return turbulence_index"
   ]
  },
  {
   "cell_type": "code",
   "execution_count": 27,
   "metadata": {
    "execution": {
     "iopub.execute_input": "2021-02-17T12:04:23.555731Z",
     "iopub.status.busy": "2021-02-17T12:04:23.554730Z",
     "iopub.status.idle": "2021-02-17T12:08:42.628585Z",
     "shell.execute_reply": "2021-02-17T12:08:42.628585Z",
     "shell.execute_reply.started": "2021-02-17T12:04:23.555731Z"
    },
    "id": "JsVF4J6wh1ip"
   },
   "outputs": [],
   "source": [
    "## took about 8 mins to finish\n",
    "dow_30 = add_turbulence(dow_30)"
   ]
  },
  {
   "cell_type": "code",
   "execution_count": 28,
   "metadata": {
    "colab": {
     "base_uri": "https://localhost:8080/"
    },
    "execution": {
     "iopub.execute_input": "2021-02-17T12:09:11.607184Z",
     "iopub.status.busy": "2021-02-17T12:09:11.607184Z",
     "iopub.status.idle": "2021-02-17T12:09:11.610187Z",
     "shell.execute_reply": "2021-02-17T12:09:11.610187Z",
     "shell.execute_reply.started": "2021-02-17T12:09:11.607184Z"
    },
    "id": "HJJPCm7kh1ir",
    "outputId": "a4e5583f-074a-42db-bc8d-910c02f516eb"
   },
   "outputs": [
    {
     "data": {
      "text/plain": [
       "(89190, 11)"
      ]
     },
     "execution_count": 28,
     "metadata": {},
     "output_type": "execute_result"
    }
   ],
   "source": [
    "dow_30.shape"
   ]
  },
  {
   "cell_type": "code",
   "execution_count": 29,
   "metadata": {
    "colab": {
     "base_uri": "https://localhost:8080/",
     "height": 204
    },
    "execution": {
     "iopub.execute_input": "2021-02-17T12:09:14.552617Z",
     "iopub.status.busy": "2021-02-17T12:09:14.551616Z",
     "iopub.status.idle": "2021-02-17T12:09:14.562626Z",
     "shell.execute_reply": "2021-02-17T12:09:14.562626Z",
     "shell.execute_reply.started": "2021-02-17T12:09:14.551616Z"
    },
    "id": "Fl82W2rDh1it",
    "outputId": "ffcd8fd6-58f7-4c21-f22c-273f9d3ddf83"
   },
   "outputs": [
    {
     "data": {
      "text/html": [
       "<div>\n",
       "<style scoped>\n",
       "    .dataframe tbody tr th:only-of-type {\n",
       "        vertical-align: middle;\n",
       "    }\n",
       "\n",
       "    .dataframe tbody tr th {\n",
       "        vertical-align: top;\n",
       "    }\n",
       "\n",
       "    .dataframe thead th {\n",
       "        text-align: right;\n",
       "    }\n",
       "</style>\n",
       "<table border=\"1\" class=\"dataframe\">\n",
       "  <thead>\n",
       "    <tr style=\"text-align: right;\">\n",
       "      <th></th>\n",
       "      <th>datadate</th>\n",
       "      <th>open</th>\n",
       "      <th>high</th>\n",
       "      <th>low</th>\n",
       "      <th>close</th>\n",
       "      <th>adjcp</th>\n",
       "      <th>volume</th>\n",
       "      <th>tic</th>\n",
       "      <th>macd</th>\n",
       "      <th>rsi</th>\n",
       "      <th>turbulence</th>\n",
       "    </tr>\n",
       "  </thead>\n",
       "  <tbody>\n",
       "    <tr>\n",
       "      <th>0</th>\n",
       "      <td>2008-12-31</td>\n",
       "      <td>3.070357</td>\n",
       "      <td>3.133571</td>\n",
       "      <td>3.047857</td>\n",
       "      <td>3.048214</td>\n",
       "      <td>2.625620</td>\n",
       "      <td>607541200.0</td>\n",
       "      <td>AAPL</td>\n",
       "      <td>0.000000</td>\n",
       "      <td>100.0</td>\n",
       "      <td>0.0</td>\n",
       "    </tr>\n",
       "    <tr>\n",
       "      <th>1</th>\n",
       "      <td>2008-12-31</td>\n",
       "      <td>17.969999</td>\n",
       "      <td>18.750000</td>\n",
       "      <td>17.910000</td>\n",
       "      <td>18.549999</td>\n",
       "      <td>15.110051</td>\n",
       "      <td>9625600.0</td>\n",
       "      <td>AXP</td>\n",
       "      <td>0.014255</td>\n",
       "      <td>100.0</td>\n",
       "      <td>0.0</td>\n",
       "    </tr>\n",
       "    <tr>\n",
       "      <th>2</th>\n",
       "      <td>2008-12-31</td>\n",
       "      <td>41.590000</td>\n",
       "      <td>43.049999</td>\n",
       "      <td>41.500000</td>\n",
       "      <td>42.669998</td>\n",
       "      <td>32.005901</td>\n",
       "      <td>5443100.0</td>\n",
       "      <td>BA</td>\n",
       "      <td>0.043418</td>\n",
       "      <td>100.0</td>\n",
       "      <td>0.0</td>\n",
       "    </tr>\n",
       "    <tr>\n",
       "      <th>3</th>\n",
       "      <td>2008-12-31</td>\n",
       "      <td>43.700001</td>\n",
       "      <td>45.099998</td>\n",
       "      <td>43.700001</td>\n",
       "      <td>44.669998</td>\n",
       "      <td>31.403988</td>\n",
       "      <td>6277400.0</td>\n",
       "      <td>CAT</td>\n",
       "      <td>0.035331</td>\n",
       "      <td>100.0</td>\n",
       "      <td>0.0</td>\n",
       "    </tr>\n",
       "    <tr>\n",
       "      <th>4</th>\n",
       "      <td>2008-12-31</td>\n",
       "      <td>16.180000</td>\n",
       "      <td>16.549999</td>\n",
       "      <td>16.120001</td>\n",
       "      <td>16.299999</td>\n",
       "      <td>12.189656</td>\n",
       "      <td>37513700.0</td>\n",
       "      <td>CSCO</td>\n",
       "      <td>0.011074</td>\n",
       "      <td>100.0</td>\n",
       "      <td>0.0</td>\n",
       "    </tr>\n",
       "  </tbody>\n",
       "</table>\n",
       "</div>"
      ],
      "text/plain": [
       "     datadate       open       high        low      close      adjcp  \\\n",
       "0  2008-12-31   3.070357   3.133571   3.047857   3.048214   2.625620   \n",
       "1  2008-12-31  17.969999  18.750000  17.910000  18.549999  15.110051   \n",
       "2  2008-12-31  41.590000  43.049999  41.500000  42.669998  32.005901   \n",
       "3  2008-12-31  43.700001  45.099998  43.700001  44.669998  31.403988   \n",
       "4  2008-12-31  16.180000  16.549999  16.120001  16.299999  12.189656   \n",
       "\n",
       "        volume   tic      macd    rsi  turbulence  \n",
       "0  607541200.0  AAPL  0.000000  100.0         0.0  \n",
       "1    9625600.0   AXP  0.014255  100.0         0.0  \n",
       "2    5443100.0    BA  0.043418  100.0         0.0  \n",
       "3    6277400.0   CAT  0.035331  100.0         0.0  \n",
       "4   37513700.0  CSCO  0.011074  100.0         0.0  "
      ]
     },
     "execution_count": 29,
     "metadata": {},
     "output_type": "execute_result"
    }
   ],
   "source": [
    "dow_30.head()"
   ]
  },
  {
   "cell_type": "markdown",
   "metadata": {
    "id": "-QsYaY0Dh1iw"
   },
   "source": [
    "# Part 3: Design Environment\n",
    "Considering the stochastic and interactive nature of the automated stock trading tasks, a financial task is modeled as a Markov Decision Process (MDP) problem. The training process involves observing stock price change, taking an action and reward's calculation to have the agent adjusting its strategy accordingly. By interacting with the environment, the trading agent will derive a trading strategy with the maximized rewards as time proceeds.\n",
    "\n",
    "Our trading environments, based on OpenAI Gym framework, simulate live stock markets with real market data according to the principle of time-driven simulation.\n",
    "\n",
    "The action space describes the allowed actions that the agent interacts with the environment. Normally, action a includes three actions: {-1, 0, 1}, where -1, 0, 1 represent selling, holding, and buying one share. Also, an action can be carried upon multiple shares. We use an action space {-k,…,-1, 0, 1, …, k}, where k denotes the number of shares to buy and -k denotes the number of shares to sell. For example, \"Buy 10 shares of AAPL\" or \"Sell 10 shares of AAPL\" are 10 or -10, respectively. The continuous action space needs to be normalized to [-1, 1], since the policy is defined on a Gaussian distribution, which needs to be normalized and symmetric."
   ]
  },
  {
   "cell_type": "markdown",
   "metadata": {
    "id": "64EoqOrQjiVf"
   },
   "source": [
    "## Environment for Training\n",
    "\n"
   ]
  },
  {
   "cell_type": "code",
   "execution_count": 30,
   "metadata": {
    "execution": {
     "iopub.execute_input": "2021-02-17T12:10:58.484625Z",
     "iopub.status.busy": "2021-02-17T12:10:58.483624Z",
     "iopub.status.idle": "2021-02-17T12:10:58.507921Z",
     "shell.execute_reply": "2021-02-17T12:10:58.507646Z",
     "shell.execute_reply.started": "2021-02-17T12:10:58.484625Z"
    },
    "id": "aUjpqDVxjgmI"
   },
   "outputs": [],
   "source": [
    "## Environment for Training\n",
    "import numpy as np\n",
    "import pandas as pd\n",
    "from gym.utils import seeding\n",
    "import gym\n",
    "from gym import spaces\n",
    "import matplotlib\n",
    "matplotlib.use('Agg')\n",
    "import matplotlib.pyplot as plt\n",
    "\n",
    "# shares normalization factor\n",
    "# 100 shares per trade\n",
    "HMAX_NORMALIZE = 100\n",
    "# initial amount of money we have in our account\n",
    "INITIAL_ACCOUNT_BALANCE=1000000\n",
    "# total number of stocks in our portfolio\n",
    "STOCK_DIM = 30\n",
    "# transaction fee: 1/1000 reasonable percentage\n",
    "TRANSACTION_FEE_PERCENT = 0.001\n",
    "\n",
    "REWARD_SCALING = 1e-4\n",
    "\n",
    "\n",
    "class StockEnvTrain(gym.Env):\n",
    "    \"\"\"A stock trading environment for OpenAI gym\"\"\"\n",
    "    metadata = {'render.modes': ['human']}\n",
    "\n",
    "    def __init__(self, df,day = 0):\n",
    "        #super(StockEnv, self).__init__()\n",
    "        self.day = day\n",
    "        self.df = df\n",
    "\n",
    "        # action_space normalization and shape is STOCK_DIM\n",
    "        self.action_space = spaces.Box(low = -1, high = 1,shape = (STOCK_DIM,)) \n",
    "        # Shape = 181: [Current Balance]+[prices 1-30]+[owned shares 1-30] \n",
    "        # +[macd 1-30]+ [rsi 1-30] + [cci 1-30] + [adx 1-30]\n",
    "        self.observation_space = spaces.Box(low=0, high=np.inf, shape = (121,))\n",
    "        # load data from a pandas dataframe\n",
    "        self.data = self.df.loc[self.day,:]\n",
    "        self.terminal = False             \n",
    "        # initalize state\n",
    "        self.state = [INITIAL_ACCOUNT_BALANCE] + \\\n",
    "                      self.data.adjcp.values.tolist() + \\\n",
    "                      [0]*STOCK_DIM + \\\n",
    "                      self.data.macd.values.tolist() + \\\n",
    "                      self.data.rsi.values.tolist()\n",
    "                      #self.data.cci.values.tolist() + \\\n",
    "                      #self.data.adx.values.tolist()\n",
    "        # initialize reward\n",
    "        self.reward = 0\n",
    "        self.cost = 0\n",
    "        # memorize all the total balance change\n",
    "        self.asset_memory = [INITIAL_ACCOUNT_BALANCE]\n",
    "        self.rewards_memory = []\n",
    "        self.trades = 0\n",
    "        self._seed()\n",
    "\n",
    "    def _sell_stock(self, index, action):\n",
    "        # perform sell action based on the sign of the action\n",
    "        if self.state[index+STOCK_DIM+1] > 0:\n",
    "            #update balance\n",
    "            self.state[0] += \\\n",
    "            self.state[index+1]*min(abs(action),self.state[index+STOCK_DIM+1]) * \\\n",
    "             (1- TRANSACTION_FEE_PERCENT)\n",
    "\n",
    "            self.state[index+STOCK_DIM+1] -= min(abs(action), self.state[index+STOCK_DIM+1])\n",
    "            self.cost +=self.state[index+1]*min(abs(action),self.state[index+STOCK_DIM+1]) * \\\n",
    "             TRANSACTION_FEE_PERCENT\n",
    "            self.trades+=1\n",
    "        else:\n",
    "            pass\n",
    "    \n",
    "    def _buy_stock(self, index, action):\n",
    "        # perform buy action based on the sign of the action\n",
    "        available_amount = self.state[0] // self.state[index+1]\n",
    "        # print('available_amount:{}'.format(available_amount))\n",
    "\n",
    "        #update balance\n",
    "        self.state[0] -= self.state[index+1]*min(available_amount, action)* \\\n",
    "                          (1+ TRANSACTION_FEE_PERCENT)\n",
    "\n",
    "        self.state[index+STOCK_DIM+1] += min(available_amount, action)\n",
    "\n",
    "        self.cost+=self.state[index+1]*min(available_amount, action)* \\\n",
    "                          TRANSACTION_FEE_PERCENT\n",
    "        self.trades+=1\n",
    "        \n",
    "    def step(self, actions):\n",
    "        # print(self.day)\n",
    "        self.terminal = self.day >= len(self.df.index.unique())-1\n",
    "        # print(actions)\n",
    "\n",
    "        if self.terminal:\n",
    "            plt.plot(self.asset_memory,'r')\n",
    "            plt.savefig('account_value_train.png')\n",
    "            plt.close()\n",
    "            end_total_asset = self.state[0]+ \\\n",
    "            sum(np.array(self.state[1:(STOCK_DIM+1)])*np.array(self.state[(STOCK_DIM+1):(STOCK_DIM*2+1)]))\n",
    "            print(\"previous_total_asset:{}\".format(self.asset_memory[0]))           \n",
    "\n",
    "            print(\"end_total_asset:{}\".format(end_total_asset))\n",
    "            df_total_value = pd.DataFrame(self.asset_memory)\n",
    "            df_total_value.to_csv('account_value_train.csv')\n",
    "            print(\"total_reward:{}\".format(self.state[0]+sum(np.array(self.state[1:(STOCK_DIM+1)])*np.array(self.state[(STOCK_DIM+1):61]))- INITIAL_ACCOUNT_BALANCE ))\n",
    "            print(\"total_cost: \", self.cost)\n",
    "            print(\"total_trades: \", self.trades)\n",
    "            df_total_value.columns = ['account_value']\n",
    "            df_total_value['daily_return']=df_total_value.pct_change(1)\n",
    "            sharpe = (252**0.5)*df_total_value['daily_return'].mean()/ \\\n",
    "                  df_total_value['daily_return'].std()\n",
    "            print(\"Sharpe: \",sharpe)\n",
    "            print(\"=================================\")\n",
    "            df_rewards = pd.DataFrame(self.rewards_memory)\n",
    "            df_rewards.to_csv('account_rewards_train.csv')\n",
    "\n",
    "            return self.state, self.reward, self.terminal,{}\n",
    "\n",
    "        else:\n",
    "            actions = actions * HMAX_NORMALIZE\n",
    "            \n",
    "            begin_total_asset = self.state[0]+ \\\n",
    "            sum(np.array(self.state[1:(STOCK_DIM+1)])*np.array(self.state[(STOCK_DIM+1):61]))\n",
    "            #print(\"begin_total_asset:{}\".format(begin_total_asset))\n",
    "            \n",
    "            argsort_actions = np.argsort(actions)\n",
    "            \n",
    "            sell_index = argsort_actions[:np.where(actions < 0)[0].shape[0]]\n",
    "            buy_index = argsort_actions[::-1][:np.where(actions > 0)[0].shape[0]]\n",
    "\n",
    "            for index in sell_index:\n",
    "                # print('take sell action'.format(actions[index]))\n",
    "                self._sell_stock(index, actions[index])\n",
    "\n",
    "            for index in buy_index:\n",
    "                # print('take buy action: {}'.format(actions[index]))\n",
    "                self._buy_stock(index, actions[index])\n",
    "\n",
    "            self.day += 1\n",
    "            self.data = self.df.loc[self.day,:]         \n",
    "            #load next state\n",
    "            # print(\"stock_shares:{}\".format(self.state[29:]))\n",
    "            self.state =  [self.state[0]] + \\\n",
    "                    self.data.adjcp.values.tolist() + \\\n",
    "                    list(self.state[(STOCK_DIM+1):61]) + \\\n",
    "                    self.data.macd.values.tolist() + \\\n",
    "                    self.data.rsi.values.tolist() \n",
    "            \n",
    "            end_total_asset = self.state[0]+ \\\n",
    "            sum(np.array(self.state[1:(STOCK_DIM+1)])*np.array(self.state[(STOCK_DIM+1):61]))\n",
    "            \n",
    "            #print(\"end_total_asset:{}\".format(end_total_asset))\n",
    "            \n",
    "            self.reward = end_total_asset - begin_total_asset  \n",
    "            self.rewards_memory.append(self.reward)\n",
    "            \n",
    "            self.reward = self.reward * REWARD_SCALING\n",
    "            # print(\"step_reward:{}\".format(self.reward))\n",
    "            \n",
    "            self.asset_memory.append(end_total_asset)\n",
    "\n",
    "\n",
    "        return self.state, self.reward, self.terminal, {}\n",
    "\n",
    "    def reset(self):\n",
    "        self.asset_memory = [INITIAL_ACCOUNT_BALANCE]\n",
    "        self.day = 0\n",
    "        self.data = self.df.loc[self.day,:]\n",
    "        self.cost = 0\n",
    "        self.trades = 0\n",
    "        self.terminal = False \n",
    "        self.rewards_memory = []\n",
    "        #initiate state\n",
    "        self.state = [INITIAL_ACCOUNT_BALANCE] + \\\n",
    "                      self.data.adjcp.values.tolist() + \\\n",
    "                      [0]*STOCK_DIM + \\\n",
    "                      self.data.macd.values.tolist() + \\\n",
    "                      self.data.rsi.values.tolist() \n",
    "        return self.state\n",
    "    \n",
    "    def render(self, mode='human'):\n",
    "        return self.state\n",
    "\n",
    "    def _seed(self, seed=None):\n",
    "        self.np_random, seed = seeding.np_random(seed)\n",
    "        return [seed]"
   ]
  },
  {
   "cell_type": "markdown",
   "metadata": {
    "id": "4QrezXm3jwu4"
   },
   "source": [
    "## Environment for Trading\n",
    "\n"
   ]
  },
  {
   "cell_type": "code",
   "execution_count": 31,
   "metadata": {
    "execution": {
     "iopub.execute_input": "2021-02-17T12:11:09.787900Z",
     "iopub.status.busy": "2021-02-17T12:11:09.787900Z",
     "iopub.status.idle": "2021-02-17T12:11:09.818029Z",
     "shell.execute_reply": "2021-02-17T12:11:09.817927Z",
     "shell.execute_reply.started": "2021-02-17T12:11:09.787900Z"
    },
    "id": "UStwTAVCjuHP"
   },
   "outputs": [],
   "source": [
    "## Environment for Trading\n",
    "import numpy as np\n",
    "import pandas as pd\n",
    "from gym.utils import seeding\n",
    "import gym\n",
    "from gym import spaces\n",
    "import matplotlib\n",
    "matplotlib.use('Agg')\n",
    "import matplotlib.pyplot as plt\n",
    "\n",
    "# shares normalization factor\n",
    "# 100 shares per trade\n",
    "HMAX_NORMALIZE = 100\n",
    "# initial amount of money we have in our account\n",
    "INITIAL_ACCOUNT_BALANCE=1000000\n",
    "# total number of stocks in our portfolio\n",
    "STOCK_DIM = 30\n",
    "# transaction fee: 1/1000 reasonable percentage\n",
    "TRANSACTION_FEE_PERCENT = 0.001\n",
    "\n",
    "# turbulence index: 90-150 reasonable threshold\n",
    "#TURBULENCE_THRESHOLD = 140\n",
    "REWARD_SCALING = 1e-4\n",
    "\n",
    "class StockEnvTrade(gym.Env):\n",
    "    \"\"\"A stock trading environment for OpenAI gym\"\"\"\n",
    "    metadata = {'render.modes': ['human']}\n",
    "\n",
    "    def __init__(self, df,day = 0,turbulence_threshold=140):\n",
    "        #super(StockEnv, self).__init__()\n",
    "        #money = 10 , scope = 1\n",
    "        self.day = day\n",
    "        self.df = df\n",
    "        # action_space normalization and shape is STOCK_DIM\n",
    "        self.action_space = spaces.Box(low = -1, high = 1,shape = (STOCK_DIM,)) \n",
    "        # Shape = 181: [Current Balance]+[prices 1-30]+[owned shares 1-30] \n",
    "        # +[macd 1-30]+ [rsi 1-30] + [cci 1-30] + [adx 1-30]\n",
    "        self.observation_space = spaces.Box(low=0, high=np.inf, shape = (121,))\n",
    "        # load data from a pandas dataframe\n",
    "        self.data = self.df.loc[self.day,:]\n",
    "        self.terminal = False     \n",
    "        self.turbulence_threshold = turbulence_threshold\n",
    "        # initalize state\n",
    "        self.state = [INITIAL_ACCOUNT_BALANCE] + \\\n",
    "                      self.data.adjcp.values.tolist() + \\\n",
    "                      [0]*STOCK_DIM + \\\n",
    "                      self.data.macd.values.tolist() + \\\n",
    "                      self.data.rsi.values.tolist() \n",
    "\n",
    "        # initialize reward\n",
    "        self.reward = 0\n",
    "        self.turbulence = 0\n",
    "        self.cost = 0\n",
    "        self.trades = 0\n",
    "        # memorize all the total balance change\n",
    "        self.asset_memory = [INITIAL_ACCOUNT_BALANCE]\n",
    "        self.rewards_memory = []\n",
    "        self.actions_memory=[]\n",
    "        self.date_memory=[]\n",
    "        self._seed()\n",
    "\n",
    "\n",
    "    def _sell_stock(self, index, action):\n",
    "        # perform sell action based on the sign of the action\n",
    "        if self.turbulence<self.turbulence_threshold:\n",
    "            if self.state[index+STOCK_DIM+1] > 0:\n",
    "                #update balance\n",
    "                self.state[0] += \\\n",
    "                self.state[index+1]*min(abs(action),self.state[index+STOCK_DIM+1]) * \\\n",
    "                 (1- TRANSACTION_FEE_PERCENT)\n",
    "                \n",
    "                self.state[index+STOCK_DIM+1] -= min(abs(action), self.state[index+STOCK_DIM+1])\n",
    "                self.cost +=self.state[index+1]*min(abs(action),self.state[index+STOCK_DIM+1]) * \\\n",
    "                 TRANSACTION_FEE_PERCENT\n",
    "                self.trades+=1\n",
    "            else:\n",
    "                pass\n",
    "        else:\n",
    "            # if turbulence goes over threshold, just clear out all positions \n",
    "            if self.state[index+STOCK_DIM+1] > 0:\n",
    "                #update balance\n",
    "                self.state[0] += self.state[index+1]*self.state[index+STOCK_DIM+1]* \\\n",
    "                              (1- TRANSACTION_FEE_PERCENT)\n",
    "                self.state[index+STOCK_DIM+1] =0\n",
    "                self.cost += self.state[index+1]*self.state[index+STOCK_DIM+1]* \\\n",
    "                              TRANSACTION_FEE_PERCENT\n",
    "                self.trades+=1\n",
    "            else:\n",
    "                pass\n",
    "    \n",
    "    def _buy_stock(self, index, action):\n",
    "        # perform buy action based on the sign of the action\n",
    "        if self.turbulence< self.turbulence_threshold:\n",
    "            available_amount = self.state[0] // self.state[index+1]\n",
    "            # print('available_amount:{}'.format(available_amount))\n",
    "            \n",
    "            #update balance\n",
    "            self.state[0] -= self.state[index+1]*min(available_amount, action)* \\\n",
    "                              (1+ TRANSACTION_FEE_PERCENT)\n",
    "\n",
    "            self.state[index+STOCK_DIM+1] += min(available_amount, action)\n",
    "            \n",
    "            self.cost+=self.state[index+1]*min(available_amount, action)* \\\n",
    "                              TRANSACTION_FEE_PERCENT\n",
    "            self.trades+=1\n",
    "        else:\n",
    "            # if turbulence goes over threshold, just stop buying\n",
    "            pass\n",
    "        \n",
    "    def step(self, actions):\n",
    "        # print(self.day)\n",
    "        self.terminal = self.day >= len(self.df.index.unique())-1\n",
    "        # print(actions)\n",
    "\n",
    "        if self.terminal:\n",
    "            plt.plot(self.asset_memory,'r')\n",
    "            plt.savefig('account_value_trade.png')\n",
    "            plt.close()\n",
    "            \n",
    "            df_date = pd.DataFrame(self.date_memory)\n",
    "            df_date.columns = ['datadate']\n",
    "            df_date.to_csv('df_date.csv')\n",
    "            \n",
    "            \n",
    "            df_actions = pd.DataFrame(self.actions_memory)\n",
    "            df_actions.columns = self.data.tic.values\n",
    "            df_actions.index = df_date.datadate                               \n",
    "            df_actions.to_csv('df_actions.csv')\n",
    "            \n",
    "            df_total_value = pd.DataFrame(self.asset_memory)\n",
    "            df_total_value.to_csv('account_value_trade.csv')\n",
    "            end_total_asset = self.state[0]+ \\\n",
    "            sum(np.array(self.state[1:(STOCK_DIM+1)])*np.array(self.state[(STOCK_DIM+1):(STOCK_DIM*2+1)]))\n",
    "            print(\"previous_total_asset:{}\".format(self.asset_memory[0]))           \n",
    "\n",
    "            print(\"end_total_asset:{}\".format(end_total_asset))\n",
    "            print(\"total_reward:{}\".format(self.state[0]+sum(np.array(self.state[1:(STOCK_DIM+1)])*np.array(self.state[(STOCK_DIM+1):61]))- self.asset_memory[0] ))\n",
    "            print(\"total_cost: \", self.cost)\n",
    "            print(\"total trades: \", self.trades)\n",
    "\n",
    "            df_total_value.columns = ['account_value']\n",
    "            df_total_value['daily_return']=df_total_value.pct_change(1)\n",
    "            sharpe = (252**0.5)*df_total_value['daily_return'].mean()/ \\\n",
    "                  df_total_value['daily_return'].std()\n",
    "            print(\"Sharpe: \",sharpe)\n",
    "            \n",
    "            df_rewards = pd.DataFrame(self.rewards_memory)\n",
    "            df_rewards.to_csv('account_rewards_trade.csv')\n",
    "            \n",
    "            # print('total asset: {}'.format(self.state[0]+ sum(np.array(self.state[1:29])*np.array(self.state[29:]))))\n",
    "            #with open('obs.pkl', 'wb') as f:  \n",
    "            #    pickle.dump(self.state, f)\n",
    "            \n",
    "            return self.state, self.reward, self.terminal,{}\n",
    "\n",
    "        else:\n",
    "            # print(np.array(self.state[1:29]))\n",
    "            self.date_memory.append(self.data.datadate.unique())\n",
    "  \n",
    "            #print(self.data)\n",
    "            actions = actions * HMAX_NORMALIZE\n",
    "            if self.turbulence>=self.turbulence_threshold:\n",
    "                actions=np.array([-HMAX_NORMALIZE]*STOCK_DIM)\n",
    "            self.actions_memory.append(actions)\n",
    "            \n",
    "            #actions = (actions.astype(int))\n",
    "            \n",
    "            begin_total_asset = self.state[0]+ \\\n",
    "            sum(np.array(self.state[1:(STOCK_DIM+1)])*np.array(self.state[(STOCK_DIM+1):(STOCK_DIM*2+1)]))\n",
    "            #print(\"begin_total_asset:{}\".format(begin_total_asset))\n",
    "            \n",
    "            argsort_actions = np.argsort(actions)\n",
    "            #print(argsort_actions)\n",
    "            \n",
    "            sell_index = argsort_actions[:np.where(actions < 0)[0].shape[0]]\n",
    "            buy_index = argsort_actions[::-1][:np.where(actions > 0)[0].shape[0]]\n",
    "\n",
    "            for index in sell_index:\n",
    "                # print('take sell action'.format(actions[index]))\n",
    "                self._sell_stock(index, actions[index])\n",
    "\n",
    "            for index in buy_index:\n",
    "                # print('take buy action: {}'.format(actions[index]))\n",
    "                self._buy_stock(index, actions[index])\n",
    "\n",
    "            self.day += 1\n",
    "            self.data = self.df.loc[self.day,:]         \n",
    "            self.turbulence = self.data['turbulence'].values[0]\n",
    "            #print(self.turbulence)\n",
    "            #load next state\n",
    "            # print(\"stock_shares:{}\".format(self.state[29:]))\n",
    "            self.state =  [self.state[0]] + \\\n",
    "                    self.data.adjcp.values.tolist() + \\\n",
    "                    list(self.state[(STOCK_DIM+1):(STOCK_DIM*2+1)]) + \\\n",
    "                    self.data.macd.values.tolist() + \\\n",
    "                    self.data.rsi.values.tolist() \n",
    "            \n",
    "            end_total_asset = self.state[0]+ \\\n",
    "            sum(np.array(self.state[1:(STOCK_DIM+1)])*np.array(self.state[(STOCK_DIM+1):(STOCK_DIM*2+1)]))\n",
    "            \n",
    "            #print(\"end_total_asset:{}\".format(end_total_asset))\n",
    "            \n",
    "            self.reward = end_total_asset - begin_total_asset  \n",
    "            self.rewards_memory.append(self.reward)\n",
    "            \n",
    "            self.reward = self.reward * REWARD_SCALING\n",
    "            \n",
    "            self.asset_memory.append(end_total_asset)\n",
    "\n",
    "        return self.state, self.reward, self.terminal, {}\n",
    "\n",
    "    def reset(self):  \n",
    "        self.asset_memory = [INITIAL_ACCOUNT_BALANCE]\n",
    "        self.day = 0\n",
    "        self.data = self.df.loc[self.day,:]\n",
    "        self.turbulence = 0\n",
    "        self.cost = 0\n",
    "        self.trades = 0\n",
    "        self.terminal = False \n",
    "        #self.iteration=self.iteration\n",
    "        self.rewards_memory = []\n",
    "        self.actions_memory=[]\n",
    "        self.date_memory=[]\n",
    "        #initiate state\n",
    "        self.state = [INITIAL_ACCOUNT_BALANCE] + \\\n",
    "                      self.data.adjcp.values.tolist() + \\\n",
    "                      [0]*STOCK_DIM + \\\n",
    "                      self.data.macd.values.tolist() + \\\n",
    "                      self.data.rsi.values.tolist() \n",
    "\n",
    "        return self.state\n",
    "    \n",
    "    def render(self, mode='human',close=False):\n",
    "        return self.state\n",
    "    \n",
    "\n",
    "    def _seed(self, seed=None):\n",
    "        self.np_random, seed = seeding.np_random(seed)\n",
    "        return [seed]\n",
    "\n"
   ]
  },
  {
   "cell_type": "markdown",
   "metadata": {
    "id": "HMNR5nHjh1iz"
   },
   "source": [
    "# Part 4: Implement DRL Algorithms\n",
    "The implementation of the DRL algorithms are based on OpenAI Baselines and Stable Baselines. Stable Baselines is a fork of OpenAI Baselines, with a major structural refactoring, and code cleanups."
   ]
  },
  {
   "cell_type": "markdown",
   "metadata": {
    "id": "YDmqOyF9h1iz"
   },
   "source": [
    "## Training data split: 2009-01-01 to 2018-12-31"
   ]
  },
  {
   "cell_type": "code",
   "execution_count": 32,
   "metadata": {
    "execution": {
     "iopub.execute_input": "2021-02-17T12:11:17.881905Z",
     "iopub.status.busy": "2021-02-17T12:11:17.881905Z",
     "iopub.status.idle": "2021-02-17T12:11:17.884907Z",
     "shell.execute_reply": "2021-02-17T12:11:17.884907Z",
     "shell.execute_reply.started": "2021-02-17T12:11:17.881905Z"
    },
    "id": "lN3DB4nFh1iz"
   },
   "outputs": [],
   "source": [
    "def data_split(df,start,end):\n",
    "    \"\"\"\n",
    "    split the dataset into training or testing using date\n",
    "    :param data: (df) pandas dataframe, start, end\n",
    "    :return: (df) pandas dataframe\n",
    "    \"\"\"\n",
    "    data = df[(df.datadate >= start) & (df.datadate < end)]\n",
    "    data=data.sort_values(['datadate','tic'],ignore_index=True)\n",
    "    data.index = data.datadate.factorize()[0]\n",
    "    return data"
   ]
  },
  {
   "cell_type": "code",
   "execution_count": 33,
   "metadata": {
    "execution": {
     "iopub.execute_input": "2021-02-17T12:11:23.015570Z",
     "iopub.status.busy": "2021-02-17T12:11:23.014570Z",
     "iopub.status.idle": "2021-02-17T12:11:23.055606Z",
     "shell.execute_reply": "2021-02-17T12:11:23.055606Z",
     "shell.execute_reply.started": "2021-02-17T12:11:23.015570Z"
    },
    "id": "UZaEAu0Bh1i4"
   },
   "outputs": [],
   "source": [
    "## set up train & test environment\n",
    "# training env\n",
    "train = data_split(dow_30, start='2009-01-01', end='2019-01-01')\n",
    "env_train = DummyVecEnv([lambda: StockEnvTrain(train)])"
   ]
  },
  {
   "cell_type": "code",
   "execution_count": 34,
   "metadata": {
    "colab": {
     "base_uri": "https://localhost:8080/",
     "height": 204
    },
    "execution": {
     "iopub.execute_input": "2021-02-17T12:11:28.734768Z",
     "iopub.status.busy": "2021-02-17T12:11:28.734768Z",
     "iopub.status.idle": "2021-02-17T12:11:28.744777Z",
     "shell.execute_reply": "2021-02-17T12:11:28.744777Z",
     "shell.execute_reply.started": "2021-02-17T12:11:28.734768Z"
    },
    "id": "6bCKAexCh1i7",
    "outputId": "d5a8a134-7f3b-48f5-a195-31d973a99053"
   },
   "outputs": [
    {
     "data": {
      "text/html": [
       "<div>\n",
       "<style scoped>\n",
       "    .dataframe tbody tr th:only-of-type {\n",
       "        vertical-align: middle;\n",
       "    }\n",
       "\n",
       "    .dataframe tbody tr th {\n",
       "        vertical-align: top;\n",
       "    }\n",
       "\n",
       "    .dataframe thead th {\n",
       "        text-align: right;\n",
       "    }\n",
       "</style>\n",
       "<table border=\"1\" class=\"dataframe\">\n",
       "  <thead>\n",
       "    <tr style=\"text-align: right;\">\n",
       "      <th></th>\n",
       "      <th>datadate</th>\n",
       "      <th>open</th>\n",
       "      <th>high</th>\n",
       "      <th>low</th>\n",
       "      <th>close</th>\n",
       "      <th>adjcp</th>\n",
       "      <th>volume</th>\n",
       "      <th>tic</th>\n",
       "      <th>macd</th>\n",
       "      <th>rsi</th>\n",
       "      <th>turbulence</th>\n",
       "    </tr>\n",
       "  </thead>\n",
       "  <tbody>\n",
       "    <tr>\n",
       "      <th>0</th>\n",
       "      <td>2009-01-02</td>\n",
       "      <td>3.067143</td>\n",
       "      <td>3.251429</td>\n",
       "      <td>3.041429</td>\n",
       "      <td>3.241071</td>\n",
       "      <td>2.791740</td>\n",
       "      <td>746015200.0</td>\n",
       "      <td>AAPL</td>\n",
       "      <td>0.003727</td>\n",
       "      <td>100.000000</td>\n",
       "      <td>0.0</td>\n",
       "    </tr>\n",
       "    <tr>\n",
       "      <th>0</th>\n",
       "      <td>2009-01-02</td>\n",
       "      <td>18.570000</td>\n",
       "      <td>19.520000</td>\n",
       "      <td>18.400000</td>\n",
       "      <td>19.330000</td>\n",
       "      <td>15.745411</td>\n",
       "      <td>10955700.0</td>\n",
       "      <td>AXP</td>\n",
       "      <td>0.033824</td>\n",
       "      <td>100.000000</td>\n",
       "      <td>0.0</td>\n",
       "    </tr>\n",
       "    <tr>\n",
       "      <th>0</th>\n",
       "      <td>2009-01-02</td>\n",
       "      <td>42.799999</td>\n",
       "      <td>45.560001</td>\n",
       "      <td>42.779999</td>\n",
       "      <td>45.250000</td>\n",
       "      <td>33.941101</td>\n",
       "      <td>7010200.0</td>\n",
       "      <td>BA</td>\n",
       "      <td>0.076722</td>\n",
       "      <td>100.000000</td>\n",
       "      <td>0.0</td>\n",
       "    </tr>\n",
       "    <tr>\n",
       "      <th>0</th>\n",
       "      <td>2009-01-02</td>\n",
       "      <td>44.910000</td>\n",
       "      <td>46.980000</td>\n",
       "      <td>44.709999</td>\n",
       "      <td>46.910000</td>\n",
       "      <td>32.978760</td>\n",
       "      <td>7117200.0</td>\n",
       "      <td>CAT</td>\n",
       "      <td>0.026924</td>\n",
       "      <td>72.290025</td>\n",
       "      <td>0.0</td>\n",
       "    </tr>\n",
       "    <tr>\n",
       "      <th>0</th>\n",
       "      <td>2009-01-02</td>\n",
       "      <td>16.410000</td>\n",
       "      <td>17.000000</td>\n",
       "      <td>16.250000</td>\n",
       "      <td>16.959999</td>\n",
       "      <td>12.683227</td>\n",
       "      <td>40980600.0</td>\n",
       "      <td>CSCO</td>\n",
       "      <td>0.017589</td>\n",
       "      <td>100.000000</td>\n",
       "      <td>0.0</td>\n",
       "    </tr>\n",
       "  </tbody>\n",
       "</table>\n",
       "</div>"
      ],
      "text/plain": [
       "     datadate       open       high        low      close      adjcp  \\\n",
       "0  2009-01-02   3.067143   3.251429   3.041429   3.241071   2.791740   \n",
       "0  2009-01-02  18.570000  19.520000  18.400000  19.330000  15.745411   \n",
       "0  2009-01-02  42.799999  45.560001  42.779999  45.250000  33.941101   \n",
       "0  2009-01-02  44.910000  46.980000  44.709999  46.910000  32.978760   \n",
       "0  2009-01-02  16.410000  17.000000  16.250000  16.959999  12.683227   \n",
       "\n",
       "        volume   tic      macd         rsi  turbulence  \n",
       "0  746015200.0  AAPL  0.003727  100.000000         0.0  \n",
       "0   10955700.0   AXP  0.033824  100.000000         0.0  \n",
       "0    7010200.0    BA  0.076722  100.000000         0.0  \n",
       "0    7117200.0   CAT  0.026924   72.290025         0.0  \n",
       "0   40980600.0  CSCO  0.017589  100.000000         0.0  "
      ]
     },
     "execution_count": 34,
     "metadata": {},
     "output_type": "execute_result"
    }
   ],
   "source": [
    "train.head()"
   ]
  },
  {
   "cell_type": "code",
   "execution_count": 35,
   "metadata": {
    "execution": {
     "iopub.execute_input": "2021-02-17T12:11:34.415931Z",
     "iopub.status.busy": "2021-02-17T12:11:34.415931Z",
     "iopub.status.idle": "2021-02-17T12:11:34.426941Z",
     "shell.execute_reply": "2021-02-17T12:11:34.426941Z",
     "shell.execute_reply.started": "2021-02-17T12:11:34.415931Z"
    },
    "id": "qxuiMdpOh1i-"
   },
   "outputs": [
    {
     "data": {
      "text/html": [
       "<div>\n",
       "<style scoped>\n",
       "    .dataframe tbody tr th:only-of-type {\n",
       "        vertical-align: middle;\n",
       "    }\n",
       "\n",
       "    .dataframe tbody tr th {\n",
       "        vertical-align: top;\n",
       "    }\n",
       "\n",
       "    .dataframe thead th {\n",
       "        text-align: right;\n",
       "    }\n",
       "</style>\n",
       "<table border=\"1\" class=\"dataframe\">\n",
       "  <thead>\n",
       "    <tr style=\"text-align: right;\">\n",
       "      <th></th>\n",
       "      <th>datadate</th>\n",
       "      <th>open</th>\n",
       "      <th>high</th>\n",
       "      <th>low</th>\n",
       "      <th>close</th>\n",
       "      <th>adjcp</th>\n",
       "      <th>volume</th>\n",
       "      <th>tic</th>\n",
       "      <th>macd</th>\n",
       "      <th>rsi</th>\n",
       "      <th>turbulence</th>\n",
       "    </tr>\n",
       "  </thead>\n",
       "  <tbody>\n",
       "    <tr>\n",
       "      <th>2515</th>\n",
       "      <td>2018-12-31</td>\n",
       "      <td>131.679993</td>\n",
       "      <td>132.440002</td>\n",
       "      <td>130.229996</td>\n",
       "      <td>131.940002</td>\n",
       "      <td>130.094803</td>\n",
       "      <td>7976000.0</td>\n",
       "      <td>V</td>\n",
       "      <td>-2.421710</td>\n",
       "      <td>46.509202</td>\n",
       "      <td>123.105807</td>\n",
       "    </tr>\n",
       "    <tr>\n",
       "      <th>2515</th>\n",
       "      <td>2018-12-31</td>\n",
       "      <td>55.529999</td>\n",
       "      <td>56.230000</td>\n",
       "      <td>55.070000</td>\n",
       "      <td>56.220001</td>\n",
       "      <td>51.129425</td>\n",
       "      <td>15331800.0</td>\n",
       "      <td>VZ</td>\n",
       "      <td>-0.651765</td>\n",
       "      <td>49.101424</td>\n",
       "      <td>123.105807</td>\n",
       "    </tr>\n",
       "    <tr>\n",
       "      <th>2515</th>\n",
       "      <td>2018-12-31</td>\n",
       "      <td>68.540001</td>\n",
       "      <td>68.720001</td>\n",
       "      <td>67.739998</td>\n",
       "      <td>68.330002</td>\n",
       "      <td>63.439320</td>\n",
       "      <td>4870900.0</td>\n",
       "      <td>WBA</td>\n",
       "      <td>-3.329318</td>\n",
       "      <td>37.966519</td>\n",
       "      <td>123.105807</td>\n",
       "    </tr>\n",
       "    <tr>\n",
       "      <th>2515</th>\n",
       "      <td>2018-12-31</td>\n",
       "      <td>92.669998</td>\n",
       "      <td>93.389999</td>\n",
       "      <td>92.250000</td>\n",
       "      <td>93.150002</td>\n",
       "      <td>89.801826</td>\n",
       "      <td>7005800.0</td>\n",
       "      <td>WMT</td>\n",
       "      <td>-1.209148</td>\n",
       "      <td>48.664463</td>\n",
       "      <td>123.105807</td>\n",
       "    </tr>\n",
       "    <tr>\n",
       "      <th>2515</th>\n",
       "      <td>2018-12-31</td>\n",
       "      <td>68.320000</td>\n",
       "      <td>69.150002</td>\n",
       "      <td>67.660004</td>\n",
       "      <td>68.190002</td>\n",
       "      <td>59.254467</td>\n",
       "      <td>15807000.0</td>\n",
       "      <td>XOM</td>\n",
       "      <td>-2.375751</td>\n",
       "      <td>39.556869</td>\n",
       "      <td>123.105807</td>\n",
       "    </tr>\n",
       "  </tbody>\n",
       "</table>\n",
       "</div>"
      ],
      "text/plain": [
       "        datadate        open        high         low       close       adjcp  \\\n",
       "2515  2018-12-31  131.679993  132.440002  130.229996  131.940002  130.094803   \n",
       "2515  2018-12-31   55.529999   56.230000   55.070000   56.220001   51.129425   \n",
       "2515  2018-12-31   68.540001   68.720001   67.739998   68.330002   63.439320   \n",
       "2515  2018-12-31   92.669998   93.389999   92.250000   93.150002   89.801826   \n",
       "2515  2018-12-31   68.320000   69.150002   67.660004   68.190002   59.254467   \n",
       "\n",
       "          volume  tic      macd        rsi  turbulence  \n",
       "2515   7976000.0    V -2.421710  46.509202  123.105807  \n",
       "2515  15331800.0   VZ -0.651765  49.101424  123.105807  \n",
       "2515   4870900.0  WBA -3.329318  37.966519  123.105807  \n",
       "2515   7005800.0  WMT -1.209148  48.664463  123.105807  \n",
       "2515  15807000.0  XOM -2.375751  39.556869  123.105807  "
      ]
     },
     "execution_count": 35,
     "metadata": {},
     "output_type": "execute_result"
    }
   ],
   "source": [
    "train.tail()"
   ]
  },
  {
   "cell_type": "markdown",
   "metadata": {
    "id": "uijiWgkuh1jB"
   },
   "source": [
    "## Model training: DDPG\n"
   ]
  },
  {
   "cell_type": "code",
   "execution_count": 36,
   "metadata": {
    "colab": {
     "base_uri": "https://localhost:8080/"
    },
    "execution": {
     "iopub.execute_input": "2021-02-17T12:12:02.809073Z",
     "iopub.status.busy": "2021-02-17T12:12:02.808072Z",
     "iopub.status.idle": "2021-02-17T12:29:37.353998Z",
     "shell.execute_reply": "2021-02-17T12:29:37.353998Z",
     "shell.execute_reply.started": "2021-02-17T12:12:02.809073Z"
    },
    "id": "hp6cU5FZh1jC",
    "outputId": "f5f20759-d073-4065-b9ae-dae01b147fb2",
    "scrolled": true
   },
   "outputs": [
    {
     "name": "stdout",
     "output_type": "stream",
     "text": [
      "WARNING:tensorflow:From d:\\vnstudio\\lib\\site-packages\\stable_baselines\\common\\tf_util.py:191: The name tf.ConfigProto is deprecated. Please use tf.compat.v1.ConfigProto instead.\n",
      "\n",
      "WARNING:tensorflow:From d:\\vnstudio\\lib\\site-packages\\stable_baselines\\common\\tf_util.py:200: The name tf.Session is deprecated. Please use tf.compat.v1.Session instead.\n",
      "\n",
      "WARNING:tensorflow:From d:\\vnstudio\\lib\\site-packages\\stable_baselines\\ddpg\\ddpg.py:332: The name tf.variable_scope is deprecated. Please use tf.compat.v1.variable_scope instead.\n",
      "\n",
      "WARNING:tensorflow:From d:\\vnstudio\\lib\\site-packages\\stable_baselines\\common\\input.py:25: The name tf.placeholder is deprecated. Please use tf.compat.v1.placeholder instead.\n",
      "\n",
      "WARNING:tensorflow:From d:\\vnstudio\\lib\\site-packages\\stable_baselines\\ddpg\\policies.py:134: flatten (from tensorflow.python.layers.core) is deprecated and will be removed in a future version.\n",
      "Instructions for updating:\n",
      "Use keras.layers.flatten instead.\n",
      "WARNING:tensorflow:From d:\\vnstudio\\lib\\site-packages\\tensorflow_core\\python\\layers\\core.py:332: Layer.apply (from tensorflow.python.keras.engine.base_layer) is deprecated and will be removed in a future version.\n",
      "Instructions for updating:\n",
      "Please use `layer.__call__` method instead.\n",
      "WARNING:tensorflow:From d:\\vnstudio\\lib\\site-packages\\stable_baselines\\ddpg\\policies.py:136: dense (from tensorflow.python.layers.core) is deprecated and will be removed in a future version.\n",
      "Instructions for updating:\n",
      "Use keras.layers.Dense instead.\n",
      "WARNING:tensorflow:From d:\\vnstudio\\lib\\site-packages\\stable_baselines\\ddpg\\ddpg.py:412: The name tf.summary.scalar is deprecated. Please use tf.compat.v1.summary.scalar instead.\n",
      "\n",
      "WARNING:tensorflow:From d:\\vnstudio\\lib\\site-packages\\stable_baselines\\common\\tf_util.py:449: The name tf.get_collection is deprecated. Please use tf.compat.v1.get_collection instead.\n",
      "\n",
      "WARNING:tensorflow:From d:\\vnstudio\\lib\\site-packages\\stable_baselines\\common\\tf_util.py:449: The name tf.GraphKeys is deprecated. Please use tf.compat.v1.GraphKeys instead.\n",
      "\n",
      "WARNING:tensorflow:From d:\\vnstudio\\lib\\site-packages\\stable_baselines\\ddpg\\ddpg.py:94: The name tf.assign is deprecated. Please use tf.compat.v1.assign instead.\n",
      "\n",
      "WARNING:tensorflow:From d:\\vnstudio\\lib\\site-packages\\tensorflow_core\\python\\ops\\math_grad.py:1424: where (from tensorflow.python.ops.array_ops) is deprecated and will be removed in a future version.\n",
      "Instructions for updating:\n",
      "Use tf.where in 2.0, which has the same broadcast rule as np.where\n",
      "WARNING:tensorflow:From d:\\vnstudio\\lib\\site-packages\\stable_baselines\\ddpg\\ddpg.py:444: The name tf.global_variables is deprecated. Please use tf.compat.v1.global_variables instead.\n",
      "\n",
      "WARNING:tensorflow:From d:\\vnstudio\\lib\\site-packages\\stable_baselines\\ddpg\\ddpg.py:720: The name tf.global_variables_initializer is deprecated. Please use tf.compat.v1.global_variables_initializer instead.\n",
      "\n",
      "WARNING:tensorflow:From d:\\vnstudio\\lib\\site-packages\\stable_baselines\\common\\tf_util.py:432: The name tf.get_default_session is deprecated. Please use tf.compat.v1.get_default_session instead.\n",
      "\n",
      "WARNING:tensorflow:From d:\\vnstudio\\lib\\site-packages\\stable_baselines\\ddpg\\ddpg.py:452: The name tf.summary.merge_all is deprecated. Please use tf.compat.v1.summary.merge_all instead.\n",
      "\n",
      "WARNING:tensorflow:From d:\\vnstudio\\lib\\site-packages\\stable_baselines\\common\\base_class.py:1169: The name tf.summary.FileWriter is deprecated. Please use tf.compat.v1.summary.FileWriter instead.\n",
      "\n",
      "previous_total_asset:1000000\n",
      "end_total_asset:4576306.603916074\n",
      "total_reward:3576306.603916074\n",
      "total_cost:  8812.953247846208\n",
      "total_trades:  39574\n",
      "Sharpe:  0.9123793096927748\n",
      "=================================\n",
      "WARNING:tensorflow:From d:\\vnstudio\\lib\\site-packages\\stable_baselines\\common\\tf_util.py:502: The name tf.Summary is deprecated. Please use tf.compat.v1.Summary instead.\n",
      "\n",
      "previous_total_asset:1000000\n",
      "end_total_asset:4489209.0737739615\n",
      "total_reward:3489209.0737739615\n",
      "total_cost:  6469.459879726981\n",
      "total_trades:  38265\n",
      "Sharpe:  1.0110743033104796\n",
      "=================================\n",
      "previous_total_asset:1000000\n",
      "end_total_asset:5502174.049205098\n",
      "total_reward:4502174.049205098\n",
      "total_cost:  3781.792502569737\n",
      "total_trades:  39090\n",
      "Sharpe:  1.071500783949316\n",
      "=================================\n",
      "previous_total_asset:1000000\n",
      "end_total_asset:4493193.590075691\n",
      "total_reward:3493193.590075691\n",
      "total_cost:  6101.291177859566\n",
      "total_trades:  42963\n",
      "Sharpe:  0.9185991610988533\n",
      "=================================\n",
      "previous_total_asset:1000000\n",
      "end_total_asset:4421418.250308294\n",
      "total_reward:3421418.250308294\n",
      "total_cost:  6376.888119388096\n",
      "total_trades:  40951\n",
      "Sharpe:  0.9962924380751298\n",
      "=================================\n",
      "previous_total_asset:1000000\n",
      "end_total_asset:4551404.700531652\n",
      "total_reward:3551404.700531652\n",
      "total_cost:  5833.462172229827\n",
      "total_trades:  44707\n",
      "Sharpe:  1.059391114388778\n",
      "=================================\n",
      "previous_total_asset:1000000\n",
      "end_total_asset:5031376.111937897\n",
      "total_reward:4031376.1119378973\n",
      "total_cost:  4984.625327516603\n",
      "total_trades:  45778\n",
      "Sharpe:  1.1292456344033506\n",
      "=================================\n",
      "previous_total_asset:1000000\n",
      "end_total_asset:4538342.758901727\n",
      "total_reward:3538342.7589017274\n",
      "total_cost:  6749.226584751549\n",
      "total_trades:  46163\n",
      "Sharpe:  1.061729825774798\n",
      "=================================\n",
      "previous_total_asset:1000000\n",
      "end_total_asset:4890155.309793704\n",
      "total_reward:3890155.309793704\n",
      "total_cost:  7442.4830248806975\n",
      "total_trades:  49574\n",
      "Sharpe:  1.0355874341201492\n",
      "=================================\n",
      "previous_total_asset:1000000\n",
      "end_total_asset:4510583.433983908\n",
      "total_reward:3510583.433983908\n",
      "total_cost:  6499.578610365006\n",
      "total_trades:  46773\n",
      "Sharpe:  1.0379092685015172\n",
      "=================================\n",
      "previous_total_asset:1000000\n",
      "end_total_asset:4447511.535426957\n",
      "total_reward:3447511.5354269566\n",
      "total_cost:  6951.609673125773\n",
      "total_trades:  51394\n",
      "Sharpe:  0.9606061863573799\n",
      "=================================\n",
      "previous_total_asset:1000000\n",
      "end_total_asset:4658293.661524754\n",
      "total_reward:3658293.661524754\n",
      "total_cost:  7685.698181161502\n",
      "total_trades:  42538\n",
      "Sharpe:  0.9250375966302277\n",
      "=================================\n",
      "previous_total_asset:1000000\n",
      "end_total_asset:5277147.61012881\n",
      "total_reward:4277147.61012881\n",
      "total_cost:  9250.134854934684\n",
      "total_trades:  45286\n",
      "Sharpe:  0.9861453903956757\n",
      "=================================\n",
      "previous_total_asset:1000000\n",
      "end_total_asset:6055944.030096398\n",
      "total_reward:5055944.030096398\n",
      "total_cost:  13121.00666695227\n",
      "total_trades:  40594\n",
      "Sharpe:  1.1955220128196513\n",
      "=================================\n",
      "previous_total_asset:1000000\n",
      "end_total_asset:5788999.706294244\n",
      "total_reward:4788999.706294244\n",
      "total_cost:  11016.788952077302\n",
      "total_trades:  42061\n",
      "Sharpe:  1.1231424350141435\n",
      "=================================\n",
      "previous_total_asset:1000000\n",
      "end_total_asset:4960273.9206756875\n",
      "total_reward:3960273.9206756875\n",
      "total_cost:  4690.078560275964\n",
      "total_trades:  44594\n",
      "Sharpe:  1.0019358662612277\n",
      "=================================\n",
      "previous_total_asset:1000000\n",
      "end_total_asset:5728884.507987714\n",
      "total_reward:4728884.507987714\n",
      "total_cost:  9382.029707436981\n",
      "total_trades:  41368\n",
      "Sharpe:  1.0921371822727408\n",
      "=================================\n",
      "previous_total_asset:1000000\n",
      "end_total_asset:5507557.136076594\n",
      "total_reward:4507557.136076594\n",
      "total_cost:  12733.28184766631\n",
      "total_trades:  40841\n",
      "Sharpe:  1.0718848557652523\n",
      "=================================\n",
      "previous_total_asset:1000000\n",
      "end_total_asset:6142155.863488649\n",
      "total_reward:5142155.863488649\n",
      "total_cost:  8035.255489277481\n",
      "total_trades:  43368\n",
      "Sharpe:  1.0632385627588734\n",
      "=================================\n",
      "previous_total_asset:1000000\n",
      "end_total_asset:6049952.583415312\n",
      "total_reward:5049952.583415312\n",
      "total_cost:  8782.561615071842\n",
      "total_trades:  47949\n",
      "Sharpe:  1.063949200234418\n",
      "=================================\n",
      "previous_total_asset:1000000\n",
      "end_total_asset:5387211.286154513\n",
      "total_reward:4387211.286154513\n",
      "total_cost:  21239.75769803121\n",
      "total_trades:  41832\n",
      "Sharpe:  1.0044290845456714\n",
      "=================================\n",
      "previous_total_asset:1000000\n",
      "end_total_asset:2990025.984410249\n",
      "total_reward:1990025.9844102492\n",
      "total_cost:  7543.943049128939\n",
      "total_trades:  47413\n",
      "Sharpe:  0.7278774882705384\n",
      "=================================\n",
      "previous_total_asset:1000000\n",
      "end_total_asset:2602926.454251017\n",
      "total_reward:1602926.454251017\n",
      "total_cost:  10484.56081193902\n",
      "total_trades:  40932\n",
      "Sharpe:  0.6184326555514895\n",
      "=================================\n",
      "previous_total_asset:1000000\n",
      "end_total_asset:3236327.717924796\n",
      "total_reward:2236327.717924796\n",
      "total_cost:  10048.676601329498\n",
      "total_trades:  40794\n",
      "Sharpe:  0.824591439515823\n",
      "=================================\n",
      "previous_total_asset:1000000\n",
      "end_total_asset:3982425.2861007256\n",
      "total_reward:2982425.2861007256\n",
      "total_cost:  10662.360771445665\n",
      "total_trades:  46330\n",
      "Sharpe:  0.9085272085957153\n",
      "=================================\n",
      "previous_total_asset:1000000\n",
      "end_total_asset:2803610.475013345\n",
      "total_reward:1803610.475013345\n",
      "total_cost:  9957.09003120253\n",
      "total_trades:  46423\n",
      "Sharpe:  0.6811453954943628\n",
      "=================================\n",
      "previous_total_asset:1000000\n",
      "end_total_asset:4275929.21061278\n",
      "total_reward:3275929.2106127804\n",
      "total_cost:  17233.945087042517\n",
      "total_trades:  42858\n",
      "Sharpe:  0.94159255009394\n",
      "=================================\n",
      "previous_total_asset:1000000\n",
      "end_total_asset:2126145.517567306\n",
      "total_reward:1126145.5175673058\n",
      "total_cost:  9227.394637397958\n",
      "total_trades:  39641\n",
      "Sharpe:  0.5054259242565515\n",
      "=================================\n",
      "previous_total_asset:1000000\n",
      "end_total_asset:6102216.503155849\n",
      "total_reward:5102216.503155849\n",
      "total_cost:  24691.14943460152\n",
      "total_trades:  41569\n",
      "Sharpe:  1.0292165269712834\n",
      "=================================\n",
      "previous_total_asset:1000000\n",
      "end_total_asset:4640902.74870026\n",
      "total_reward:3640902.74870026\n",
      "total_cost:  16886.460877000172\n",
      "total_trades:  36724\n",
      "Sharpe:  0.9402244936137185\n",
      "=================================\n",
      "previous_total_asset:1000000\n",
      "end_total_asset:7379990.032725665\n",
      "total_reward:6379990.032725665\n",
      "total_cost:  12254.38771560634\n",
      "total_trades:  41402\n",
      "Sharpe:  1.0716923539843282\n",
      "=================================\n",
      "previous_total_asset:1000000\n",
      "end_total_asset:3912434.436150735\n",
      "total_reward:2912434.436150735\n",
      "total_cost:  14453.570502821643\n",
      "total_trades:  37257\n",
      "Sharpe:  0.7883765294199873\n",
      "=================================\n",
      "previous_total_asset:1000000\n",
      "end_total_asset:4962592.687022116\n",
      "total_reward:3962592.687022116\n",
      "total_cost:  18977.113096432273\n",
      "total_trades:  42033\n",
      "Sharpe:  1.0324345510110133\n",
      "=================================\n",
      "previous_total_asset:1000000\n",
      "end_total_asset:3502292.7233364847\n",
      "total_reward:2502292.7233364847\n",
      "total_cost:  24762.378916786103\n",
      "total_trades:  37314\n",
      "Sharpe:  0.820954901824899\n",
      "=================================\n",
      "previous_total_asset:1000000\n",
      "end_total_asset:5863197.915351354\n",
      "total_reward:4863197.915351354\n",
      "total_cost:  26951.008144975065\n",
      "total_trades:  39994\n",
      "Sharpe:  1.127473802470652\n",
      "=================================\n",
      "previous_total_asset:1000000\n",
      "end_total_asset:6978677.713109471\n",
      "total_reward:5978677.713109471\n",
      "total_cost:  17912.35205921265\n",
      "total_trades:  41924\n",
      "Sharpe:  1.1664728874171555\n",
      "=================================\n",
      "previous_total_asset:1000000\n",
      "end_total_asset:5148311.860597044\n",
      "total_reward:4148311.860597044\n",
      "total_cost:  14561.163759000909\n",
      "total_trades:  46952\n",
      "Sharpe:  0.9102911722251419\n",
      "=================================\n",
      "previous_total_asset:1000000\n",
      "end_total_asset:6323840.106828834\n",
      "total_reward:5323840.106828834\n",
      "total_cost:  28292.282769599624\n",
      "total_trades:  42547\n",
      "Sharpe:  1.0592006249446668\n",
      "=================================\n",
      "previous_total_asset:1000000\n",
      "end_total_asset:4466193.826054255\n",
      "total_reward:3466193.8260542545\n",
      "total_cost:  16975.814051898113\n",
      "total_trades:  40567\n",
      "Sharpe:  0.977864419721707\n",
      "=================================\n",
      "previous_total_asset:1000000\n",
      "end_total_asset:5605921.595892287\n",
      "total_reward:4605921.595892287\n",
      "total_cost:  14879.721994307589\n",
      "total_trades:  39646\n",
      "Sharpe:  1.0115931047935252\n",
      "=================================\n",
      "previous_total_asset:1000000\n",
      "end_total_asset:3915180.8341592923\n",
      "total_reward:2915180.8341592923\n",
      "total_cost:  13492.819719091629\n",
      "total_trades:  42236\n",
      "Sharpe:  0.9152400868799936\n",
      "=================================\n",
      "previous_total_asset:1000000\n",
      "end_total_asset:3748361.019729344\n",
      "total_reward:2748361.019729344\n",
      "total_cost:  14163.236846971606\n",
      "total_trades:  39403\n",
      "Sharpe:  0.9611640714034737\n",
      "=================================\n",
      "previous_total_asset:1000000\n",
      "end_total_asset:3399700.458858548\n",
      "total_reward:2399700.458858548\n",
      "total_cost:  10782.720886914618\n",
      "total_trades:  35672\n",
      "Sharpe:  0.8547144585117836\n",
      "=================================\n",
      "previous_total_asset:1000000\n",
      "end_total_asset:5585315.868747371\n",
      "total_reward:4585315.868747371\n",
      "total_cost:  20680.684917618895\n",
      "total_trades:  39440\n",
      "Sharpe:  0.9591720025001793\n",
      "=================================\n",
      "previous_total_asset:1000000\n",
      "end_total_asset:4194020.0996337244\n",
      "total_reward:3194020.0996337244\n",
      "total_cost:  11168.990612182675\n",
      "total_trades:  38908\n",
      "Sharpe:  0.9337473539452491\n",
      "=================================\n",
      "previous_total_asset:1000000\n",
      "end_total_asset:3825049.600763067\n",
      "total_reward:2825049.600763067\n",
      "total_cost:  21937.095969245314\n",
      "total_trades:  44646\n",
      "Sharpe:  0.916486146786014\n",
      "=================================\n",
      "previous_total_asset:1000000\n",
      "end_total_asset:3657748.9147957587\n",
      "total_reward:2657748.9147957587\n",
      "total_cost:  14944.083614393698\n",
      "total_trades:  42974\n",
      "Sharpe:  0.7771364955119248\n",
      "=================================\n",
      "previous_total_asset:1000000\n",
      "end_total_asset:3559333.855468744\n",
      "total_reward:2559333.855468744\n",
      "total_cost:  11067.333151351386\n",
      "total_trades:  43356\n",
      "Sharpe:  0.7957665809866543\n",
      "=================================\n",
      "previous_total_asset:1000000\n",
      "end_total_asset:5663232.584898818\n",
      "total_reward:4663232.584898818\n",
      "total_cost:  13575.511816954098\n",
      "total_trades:  45270\n",
      "Sharpe:  1.0857154012423824\n",
      "=================================\n",
      "previous_total_asset:1000000\n",
      "end_total_asset:5922843.744880105\n",
      "total_reward:4922843.744880105\n",
      "total_cost:  14838.513924287485\n",
      "total_trades:  44862\n",
      "Sharpe:  1.0583204692470425\n",
      "=================================\n",
      "previous_total_asset:1000000\n",
      "end_total_asset:5112851.867333289\n",
      "total_reward:4112851.8673332892\n",
      "total_cost:  8605.520002126175\n",
      "total_trades:  45207\n",
      "Sharpe:  0.9870805984093818\n",
      "=================================\n",
      "previous_total_asset:1000000\n",
      "end_total_asset:5688141.178627123\n",
      "total_reward:4688141.178627123\n",
      "total_cost:  17635.836338228328\n",
      "total_trades:  47615\n",
      "Sharpe:  1.1026374999905078\n",
      "=================================\n",
      "previous_total_asset:1000000\n",
      "end_total_asset:4024614.05080949\n",
      "total_reward:3024614.05080949\n",
      "total_cost:  13002.645061957573\n",
      "total_trades:  44500\n",
      "Sharpe:  0.8535507484003394\n",
      "=================================\n",
      "previous_total_asset:1000000\n",
      "end_total_asset:3637203.351740477\n",
      "total_reward:2637203.351740477\n",
      "total_cost:  18467.14263829248\n",
      "total_trades:  40476\n",
      "Sharpe:  0.8499302433633661\n",
      "=================================\n",
      "previous_total_asset:1000000\n",
      "end_total_asset:3812688.951475496\n",
      "total_reward:2812688.951475496\n",
      "total_cost:  20321.57303320045\n",
      "total_trades:  45813\n",
      "Sharpe:  0.8473706602409489\n",
      "=================================\n",
      "previous_total_asset:1000000\n",
      "end_total_asset:3825574.0882118745\n",
      "total_reward:2825574.0882118745\n",
      "total_cost:  18490.096141716007\n",
      "total_trades:  46296\n",
      "Sharpe:  0.9362441207799562\n",
      "=================================\n",
      "previous_total_asset:1000000\n",
      "end_total_asset:4068450.7854846376\n",
      "total_reward:3068450.7854846376\n",
      "total_cost:  25441.209160008762\n",
      "total_trades:  41834\n",
      "Sharpe:  0.900558974845296\n",
      "=================================\n",
      "previous_total_asset:1000000\n",
      "end_total_asset:5369293.036436254\n",
      "total_reward:4369293.036436254\n",
      "total_cost:  13483.212785304308\n",
      "total_trades:  37078\n",
      "Sharpe:  0.9262463267725565\n",
      "=================================\n",
      "previous_total_asset:1000000\n",
      "end_total_asset:7008595.008311346\n",
      "total_reward:6008595.008311346\n",
      "total_cost:  24634.34094331742\n",
      "total_trades:  39117\n",
      "Sharpe:  1.1557222421558582\n",
      "=================================\n",
      "previous_total_asset:1000000\n",
      "end_total_asset:3753310.5717047453\n",
      "total_reward:2753310.5717047453\n",
      "total_cost:  25015.727038819023\n",
      "total_trades:  38190\n",
      "Sharpe:  0.8376087832342218\n",
      "=================================\n",
      "previous_total_asset:1000000\n",
      "end_total_asset:3992052.7539943866\n",
      "total_reward:2992052.7539943866\n",
      "total_cost:  24888.98897585589\n",
      "total_trades:  44630\n",
      "Sharpe:  0.870336920479295\n",
      "=================================\n",
      "previous_total_asset:1000000\n",
      "end_total_asset:4791984.345845907\n",
      "total_reward:3791984.345845907\n",
      "total_cost:  18164.355797837754\n",
      "total_trades:  43355\n",
      "Sharpe:  0.9828130861812239\n",
      "=================================\n",
      "previous_total_asset:1000000\n",
      "end_total_asset:4937161.308167141\n",
      "total_reward:3937161.308167141\n",
      "total_cost:  30505.54557894658\n",
      "total_trades:  41338\n",
      "Sharpe:  0.9638216715120004\n",
      "=================================\n",
      "previous_total_asset:1000000\n",
      "end_total_asset:6933985.292186843\n",
      "total_reward:5933985.292186843\n",
      "total_cost:  19257.583648623968\n",
      "total_trades:  38921\n",
      "Sharpe:  1.2069765076497718\n",
      "=================================\n",
      "previous_total_asset:1000000\n",
      "end_total_asset:5256280.463459061\n",
      "total_reward:4256280.463459061\n",
      "total_cost:  21917.258701315164\n",
      "total_trades:  40660\n",
      "Sharpe:  0.9444563121970997\n",
      "=================================\n",
      "previous_total_asset:1000000\n",
      "end_total_asset:4439864.470940602\n",
      "total_reward:3439864.470940602\n",
      "total_cost:  19456.525065971582\n",
      "total_trades:  46359\n",
      "Sharpe:  0.9457915505940602\n",
      "=================================\n",
      "previous_total_asset:1000000\n",
      "end_total_asset:5437598.801571813\n",
      "total_reward:4437598.801571813\n",
      "total_cost:  28057.259949592964\n",
      "total_trades:  39563\n",
      "Sharpe:  1.015016200313873\n",
      "=================================\n",
      "previous_total_asset:1000000\n",
      "end_total_asset:4979749.090052231\n",
      "total_reward:3979749.090052231\n",
      "total_cost:  26046.840963358052\n",
      "total_trades:  46689\n",
      "Sharpe:  0.9422387027302775\n",
      "=================================\n",
      "previous_total_asset:1000000\n",
      "end_total_asset:3642902.518713541\n",
      "total_reward:2642902.518713541\n",
      "total_cost:  25630.076880845318\n",
      "total_trades:  41967\n",
      "Sharpe:  0.7969177584299372\n",
      "=================================\n",
      "previous_total_asset:1000000\n",
      "end_total_asset:3879525.5091981087\n",
      "total_reward:2879525.5091981087\n",
      "total_cost:  22976.78870802059\n",
      "total_trades:  42072\n",
      "Sharpe:  0.9555700564464528\n",
      "=================================\n",
      "previous_total_asset:1000000\n",
      "end_total_asset:3899157.9410102037\n",
      "total_reward:2899157.9410102037\n",
      "total_cost:  20788.86447199848\n",
      "total_trades:  43988\n",
      "Sharpe:  0.8613658957649133\n",
      "=================================\n",
      "previous_total_asset:1000000\n",
      "end_total_asset:3661837.302920903\n",
      "total_reward:2661837.302920903\n",
      "total_cost:  14627.549864662642\n",
      "total_trades:  42340\n",
      "Sharpe:  0.7738015080452859\n",
      "=================================\n",
      "previous_total_asset:1000000\n",
      "end_total_asset:3976945.441192585\n",
      "total_reward:2976945.441192585\n",
      "total_cost:  18513.47874490748\n",
      "total_trades:  43806\n",
      "Sharpe:  0.9236177519793678\n",
      "=================================\n",
      "previous_total_asset:1000000\n",
      "end_total_asset:4286460.870323266\n",
      "total_reward:3286460.870323266\n",
      "total_cost:  15442.734529538378\n",
      "total_trades:  46558\n",
      "Sharpe:  0.9433521364801531\n",
      "=================================\n",
      "previous_total_asset:1000000\n",
      "end_total_asset:4509331.315927647\n",
      "total_reward:3509331.315927647\n",
      "total_cost:  20513.84495034439\n",
      "total_trades:  42099\n",
      "Sharpe:  0.9372804477083475\n",
      "=================================\n",
      "previous_total_asset:1000000\n",
      "end_total_asset:4701495.699180057\n",
      "total_reward:3701495.6991800573\n",
      "total_cost:  23736.85018595818\n",
      "total_trades:  44331\n",
      "Sharpe:  0.9554498268048499\n",
      "=================================\n",
      "previous_total_asset:1000000\n",
      "end_total_asset:6058770.2100564055\n",
      "total_reward:5058770.2100564055\n",
      "total_cost:  14694.282291922958\n",
      "total_trades:  47106\n",
      "Sharpe:  1.0699666086443824\n",
      "=================================\n",
      "previous_total_asset:1000000\n",
      "end_total_asset:6657966.739870578\n",
      "total_reward:5657966.739870578\n",
      "total_cost:  29841.69567025061\n",
      "total_trades:  47848\n",
      "Sharpe:  1.2013098960315023\n",
      "=================================\n",
      "previous_total_asset:1000000\n",
      "end_total_asset:4880504.365877842\n",
      "total_reward:3880504.3658778416\n",
      "total_cost:  14519.878017536792\n",
      "total_trades:  41488\n",
      "Sharpe:  0.9038689081830134\n",
      "=================================\n",
      "previous_total_asset:1000000\n",
      "end_total_asset:6663507.358372733\n",
      "total_reward:5663507.358372733\n",
      "total_cost:  20935.734214119093\n",
      "total_trades:  38028\n",
      "Sharpe:  1.1030096067257604\n",
      "=================================\n",
      "previous_total_asset:1000000\n",
      "end_total_asset:4787865.389117574\n",
      "total_reward:3787865.3891175743\n",
      "total_cost:  15363.61408557399\n",
      "total_trades:  45070\n",
      "Sharpe:  1.001459241616795\n",
      "=================================\n",
      "previous_total_asset:1000000\n",
      "end_total_asset:3916410.3037640527\n",
      "total_reward:2916410.3037640527\n",
      "total_cost:  22512.6194728336\n",
      "total_trades:  43930\n",
      "Sharpe:  0.7718288996942219\n",
      "=================================\n",
      "previous_total_asset:1000000\n",
      "end_total_asset:6060879.197748612\n",
      "total_reward:5060879.197748612\n",
      "total_cost:  23288.69032060674\n",
      "total_trades:  43746\n",
      "Sharpe:  0.9924079142537343\n",
      "=================================\n",
      "previous_total_asset:1000000\n",
      "end_total_asset:4030908.373853071\n",
      "total_reward:3030908.373853071\n",
      "total_cost:  23273.345662156225\n",
      "total_trades:  45494\n",
      "Sharpe:  0.8506683583295209\n",
      "=================================\n",
      "previous_total_asset:1000000\n",
      "end_total_asset:8314495.24836751\n",
      "total_reward:7314495.24836751\n",
      "total_cost:  26091.49836165098\n",
      "total_trades:  43885\n",
      "Sharpe:  1.1916245602308957\n",
      "=================================\n",
      "previous_total_asset:1000000\n",
      "end_total_asset:4998620.878565475\n",
      "total_reward:3998620.8785654753\n",
      "total_cost:  16699.32159928208\n",
      "total_trades:  43860\n",
      "Sharpe:  0.974822034076268\n",
      "=================================\n",
      "previous_total_asset:1000000\n",
      "end_total_asset:7999496.879211799\n",
      "total_reward:6999496.879211799\n",
      "total_cost:  32592.001060870403\n",
      "total_trades:  43383\n",
      "Sharpe:  1.227564649824378\n",
      "=================================\n",
      "previous_total_asset:1000000\n",
      "end_total_asset:3986339.6034349175\n",
      "total_reward:2986339.6034349175\n",
      "total_cost:  33443.13066661433\n",
      "total_trades:  39966\n",
      "Sharpe:  0.8004098424474502\n",
      "=================================\n",
      "previous_total_asset:1000000\n",
      "end_total_asset:5308806.695561957\n",
      "total_reward:4308806.695561957\n",
      "total_cost:  17057.1598783307\n",
      "total_trades:  41657\n",
      "Sharpe:  0.9825435159803397\n",
      "=================================\n",
      "previous_total_asset:1000000\n",
      "end_total_asset:3814246.0199909494\n",
      "total_reward:2814246.0199909494\n",
      "total_cost:  19816.7164378058\n",
      "total_trades:  41455\n",
      "Sharpe:  0.807243267140051\n",
      "=================================\n",
      "previous_total_asset:1000000\n",
      "end_total_asset:4329266.877883997\n",
      "total_reward:3329266.877883997\n",
      "total_cost:  26752.21401359848\n",
      "total_trades:  45874\n",
      "Sharpe:  0.8968749275343482\n",
      "=================================\n",
      "previous_total_asset:1000000\n",
      "end_total_asset:4700315.242150835\n",
      "total_reward:3700315.2421508348\n",
      "total_cost:  25626.02363972554\n",
      "total_trades:  43260\n",
      "Sharpe:  0.9415673360912681\n",
      "=================================\n",
      "previous_total_asset:1000000\n",
      "end_total_asset:4312082.583609568\n",
      "total_reward:3312082.583609568\n",
      "total_cost:  20410.483880387932\n",
      "total_trades:  37039\n",
      "Sharpe:  0.8670803683051254\n",
      "=================================\n",
      "previous_total_asset:1000000\n",
      "end_total_asset:4909739.727507599\n",
      "total_reward:3909739.7275075987\n",
      "total_cost:  24229.18334482335\n",
      "total_trades:  40429\n",
      "Sharpe:  0.9572229178489986\n",
      "=================================\n",
      "previous_total_asset:1000000\n",
      "end_total_asset:3137457.001123034\n",
      "total_reward:2137457.001123034\n",
      "total_cost:  24121.60852891024\n",
      "total_trades:  40389\n",
      "Sharpe:  0.6615300751921986\n",
      "=================================\n",
      "previous_total_asset:1000000\n",
      "end_total_asset:5592342.549163245\n",
      "total_reward:4592342.549163245\n",
      "total_cost:  26634.47998751169\n",
      "total_trades:  41643\n",
      "Sharpe:  1.0039779589064843\n",
      "=================================\n",
      "previous_total_asset:1000000\n",
      "end_total_asset:5325758.501639382\n",
      "total_reward:4325758.501639382\n",
      "total_cost:  29288.94259734775\n",
      "total_trades:  44376\n",
      "Sharpe:  0.9839960747761833\n",
      "=================================\n",
      "previous_total_asset:1000000\n",
      "end_total_asset:5174502.191323671\n",
      "total_reward:4174502.1913236706\n",
      "total_cost:  22553.473828591672\n",
      "total_trades:  42167\n",
      "Sharpe:  0.9552663682971383\n",
      "=================================\n",
      "previous_total_asset:1000000\n",
      "end_total_asset:3988430.754703746\n",
      "total_reward:2988430.754703746\n",
      "total_cost:  28231.81023580688\n",
      "total_trades:  44578\n",
      "Sharpe:  0.8311452086046671\n",
      "=================================\n"
     ]
    },
    {
     "data": {
      "text/plain": [
       "<stable_baselines.ddpg.ddpg.DDPG at 0x13ac8845d68>"
      ]
     },
     "execution_count": 36,
     "metadata": {},
     "output_type": "execute_result"
    }
   ],
   "source": [
    "## tensorboard --logdir ./multiple_stock_tensorboard/\n",
    "# add noise to the action in DDPG helps in learning for better exploration\n",
    "n_actions = env_train.action_space.shape[-1]\n",
    "param_noise = None\n",
    "action_noise = OrnsteinUhlenbeckActionNoise(mean=np.zeros(n_actions), sigma=float(0.5) * np.ones(n_actions))\n",
    "\n",
    "# model settings\n",
    "model_ddpg = DDPG('MlpPolicy', \n",
    "                   env_train,\n",
    "                   batch_size=64,\n",
    "                   buffer_size=100000,\n",
    "                   param_noise=param_noise, \n",
    "                   action_noise=action_noise,\n",
    "                   verbose=0, \n",
    "                   tensorboard_log=\"./multiple_stock_tensorboard/\")\n",
    "\n",
    "## 250k timesteps: took about 20 mins to finish\n",
    "model_ddpg.learn(total_timesteps=250000, tb_log_name=\"DDPG_run_1\")"
   ]
  },
  {
   "cell_type": "markdown",
   "metadata": {
    "id": "f2wZgkQXh1jE"
   },
   "source": [
    "## Trading\n",
    "Assume that we have $1,000,000 initial capital at 2019-01-01. We use the DDPG model to trade Dow jones 30 stocks."
   ]
  },
  {
   "cell_type": "markdown",
   "metadata": {
    "id": "bEv5KGC8h1jE"
   },
   "source": [
    "### Set turbulence threshold\n",
    "Set the turbulence threshold to be the 99% quantile of insample turbulence data, if current turbulence index is greater than the threshold, then we assume that the current market is volatile"
   ]
  },
  {
   "cell_type": "code",
   "execution_count": 37,
   "metadata": {
    "execution": {
     "iopub.execute_input": "2021-02-17T12:29:46.984274Z",
     "iopub.status.busy": "2021-02-17T12:29:46.984274Z",
     "iopub.status.idle": "2021-02-17T12:29:47.008296Z",
     "shell.execute_reply": "2021-02-17T12:29:47.008296Z",
     "shell.execute_reply.started": "2021-02-17T12:29:46.984274Z"
    },
    "id": "efwBi84ch1jE"
   },
   "outputs": [],
   "source": [
    "insample_turbulence = dow_30[(dow_30.datadate<'2019-01-01') & (dow_30.datadate>='2009-01-01')]\n",
    "insample_turbulence = insample_turbulence.drop_duplicates(subset=['datadate'])"
   ]
  },
  {
   "cell_type": "code",
   "execution_count": 38,
   "metadata": {
    "colab": {
     "base_uri": "https://localhost:8080/"
    },
    "execution": {
     "iopub.execute_input": "2021-02-17T12:29:53.703381Z",
     "iopub.status.busy": "2021-02-17T12:29:53.702380Z",
     "iopub.status.idle": "2021-02-17T12:29:53.708385Z",
     "shell.execute_reply": "2021-02-17T12:29:53.708385Z",
     "shell.execute_reply.started": "2021-02-17T12:29:53.703381Z"
    },
    "id": "VHZMBpSqh1jG",
    "outputId": "422914c0-00f1-4ed1-c01f-08b0168715be"
   },
   "outputs": [
    {
     "data": {
      "text/plain": [
       "count    2516.000000\n",
       "mean       75.643634\n",
       "std        38.035979\n",
       "min         0.000000\n",
       "25%        57.670537\n",
       "50%        73.788959\n",
       "75%        96.805810\n",
       "max       230.175840\n",
       "Name: turbulence, dtype: float64"
      ]
     },
     "execution_count": 38,
     "metadata": {},
     "output_type": "execute_result"
    }
   ],
   "source": [
    "insample_turbulence.turbulence.describe()"
   ]
  },
  {
   "cell_type": "code",
   "execution_count": 39,
   "metadata": {
    "execution": {
     "iopub.execute_input": "2021-02-17T12:30:02.260660Z",
     "iopub.status.busy": "2021-02-17T12:30:02.260660Z",
     "iopub.status.idle": "2021-02-17T12:30:02.263663Z",
     "shell.execute_reply": "2021-02-17T12:30:02.263663Z",
     "shell.execute_reply.started": "2021-02-17T12:30:02.260660Z"
    },
    "id": "yuwDPkV9h1jL"
   },
   "outputs": [],
   "source": [
    "insample_turbulence_threshold = np.quantile(insample_turbulence.turbulence.values, 0.99)"
   ]
  },
  {
   "cell_type": "code",
   "execution_count": 40,
   "metadata": {
    "colab": {
     "base_uri": "https://localhost:8080/"
    },
    "execution": {
     "iopub.execute_input": "2021-02-17T12:30:02.911759Z",
     "iopub.status.busy": "2021-02-17T12:30:02.911759Z",
     "iopub.status.idle": "2021-02-17T12:30:02.915763Z",
     "shell.execute_reply": "2021-02-17T12:30:02.915763Z",
     "shell.execute_reply.started": "2021-02-17T12:30:02.911759Z"
    },
    "id": "wwoz_7VSh1jO",
    "outputId": "1123da04-01e0-40eb-c419-79013942d59d"
   },
   "outputs": [
    {
     "data": {
      "text/plain": [
       "176.34174739959374"
      ]
     },
     "execution_count": 40,
     "metadata": {},
     "output_type": "execute_result"
    }
   ],
   "source": [
    "insample_turbulence_threshold"
   ]
  },
  {
   "cell_type": "markdown",
   "metadata": {
    "id": "U5mmgQF_h1jQ"
   },
   "source": [
    "### Prepare test data and environment"
   ]
  },
  {
   "cell_type": "code",
   "execution_count": 41,
   "metadata": {
    "execution": {
     "iopub.execute_input": "2021-02-17T12:30:12.445756Z",
     "iopub.status.busy": "2021-02-17T12:30:12.445756Z",
     "iopub.status.idle": "2021-02-17T12:30:12.464772Z",
     "shell.execute_reply": "2021-02-17T12:30:12.464772Z",
     "shell.execute_reply.started": "2021-02-17T12:30:12.445756Z"
    },
    "id": "eLOnL5eYh1jR"
   },
   "outputs": [],
   "source": [
    "# test data\n",
    "test = data_split(dow_30, start='2019-01-01', end='2020-10-30')\n",
    "# testing env\n",
    "env_test = DummyVecEnv([lambda: StockEnvTrade(test, turbulence_threshold=insample_turbulence_threshold)])\n",
    "obs_test = env_test.reset()"
   ]
  },
  {
   "cell_type": "markdown",
   "metadata": {
    "id": "8i1AF6DMh1jU"
   },
   "source": [
    "### Prediction "
   ]
  },
  {
   "cell_type": "code",
   "execution_count": 42,
   "metadata": {
    "execution": {
     "iopub.execute_input": "2021-02-17T12:30:44.044519Z",
     "iopub.status.busy": "2021-02-17T12:30:44.044519Z",
     "iopub.status.idle": "2021-02-17T12:30:44.048523Z",
     "shell.execute_reply": "2021-02-17T12:30:44.048523Z",
     "shell.execute_reply.started": "2021-02-17T12:30:44.044519Z"
    },
    "id": "aRwQ84Zch1jU"
   },
   "outputs": [],
   "source": [
    "def DRL_prediction(model, data, env, obs):\n",
    "    print(\"==============Model Prediction===========\")\n",
    "    for i in range(len(data.index.unique())):\n",
    "        action, _states = model.predict(obs)\n",
    "        obs, rewards, dones, info = env.step(action)\n",
    "        env.render()"
   ]
  },
  {
   "cell_type": "code",
   "execution_count": 43,
   "metadata": {
    "colab": {
     "base_uri": "https://localhost:8080/"
    },
    "execution": {
     "iopub.execute_input": "2021-02-17T12:30:58.440622Z",
     "iopub.status.busy": "2021-02-17T12:30:58.440622Z",
     "iopub.status.idle": "2021-02-17T12:30:59.072195Z",
     "shell.execute_reply": "2021-02-17T12:30:59.072195Z",
     "shell.execute_reply.started": "2021-02-17T12:30:58.440622Z"
    },
    "id": "2swWs0ybh1jX",
    "outputId": "6d4c7107-ce7d-4be9-8b85-92ee579a3e13"
   },
   "outputs": [
    {
     "name": "stdout",
     "output_type": "stream",
     "text": [
      "==============Model Prediction===========\n",
      "previous_total_asset:1000000\n",
      "end_total_asset:1177401.4743883505\n",
      "total_reward:177401.4743883505\n",
      "total_cost:  24994.48128208065\n",
      "total trades:  7537\n",
      "Sharpe:  0.609279707912231\n"
     ]
    }
   ],
   "source": [
    "DRL_prediction(model=model_ddpg, \n",
    "               data=test,\n",
    "               env=env_test, \n",
    "               obs=obs_test)"
   ]
  },
  {
   "cell_type": "markdown",
   "metadata": {
    "id": "W6vvNSC6h1jZ"
   },
   "source": [
    "# Part 5: Backtest Our Strategy\n",
    "For simplicity purposes, in the article, we just calculate the Sharpe ratio and the annual return manually."
   ]
  },
  {
   "cell_type": "code",
   "execution_count": 44,
   "metadata": {
    "execution": {
     "iopub.execute_input": "2021-02-17T12:31:06.445799Z",
     "iopub.status.busy": "2021-02-17T12:31:06.445799Z",
     "iopub.status.idle": "2021-02-17T12:31:06.449096Z",
     "shell.execute_reply": "2021-02-17T12:31:06.448803Z",
     "shell.execute_reply.started": "2021-02-17T12:31:06.445799Z"
    },
    "id": "poLh4vV4h1jZ"
   },
   "outputs": [],
   "source": [
    "def backtest_strat(df):\n",
    "    strategy_ret= df.copy()\n",
    "    strategy_ret['Date'] = pd.to_datetime(strategy_ret['Date'])\n",
    "    strategy_ret.set_index('Date', drop = False, inplace = True)\n",
    "    strategy_ret.index = strategy_ret.index.tz_localize('UTC')\n",
    "    del strategy_ret['Date']\n",
    "    ts = pd.Series(strategy_ret['daily_return'].values, index=strategy_ret.index)\n",
    "    return ts"
   ]
  },
  {
   "cell_type": "markdown",
   "metadata": {
    "id": "9U6Suru3h1jc"
   },
   "source": [
    "## Dow Jones Industrial Average\n"
   ]
  },
  {
   "cell_type": "code",
   "execution_count": 45,
   "metadata": {
    "colab": {
     "base_uri": "https://localhost:8080/"
    },
    "execution": {
     "iopub.execute_input": "2021-02-17T12:32:01.829154Z",
     "iopub.status.busy": "2021-02-17T12:32:01.829154Z",
     "iopub.status.idle": "2021-02-17T12:32:02.125423Z",
     "shell.execute_reply": "2021-02-17T12:32:02.125423Z",
     "shell.execute_reply.started": "2021-02-17T12:32:01.829154Z"
    },
    "id": "YktexHcqh1jc",
    "outputId": "d5e50f54-3ba9-496a-851b-372c93516129"
   },
   "outputs": [
    {
     "name": "stdout",
     "output_type": "stream",
     "text": [
      "[*********************100%***********************]  1 of 1 completed\n"
     ]
    }
   ],
   "source": [
    "dji = yf.download(\"^DJI\", start=\"2019-01-01\", end=\"2020-10-30\")\n",
    "dji=dji.reset_index()\n",
    "dji.columns = ['Date', 'Open', 'High', 'Low', 'Close', 'adjcp', 'Volume']"
   ]
  },
  {
   "cell_type": "code",
   "execution_count": 46,
   "metadata": {
    "execution": {
     "iopub.execute_input": "2021-02-17T12:32:10.619151Z",
     "iopub.status.busy": "2021-02-17T12:32:10.619151Z",
     "iopub.status.idle": "2021-02-17T12:32:10.623155Z",
     "shell.execute_reply": "2021-02-17T12:32:10.623155Z",
     "shell.execute_reply.started": "2021-02-17T12:32:10.619151Z"
    },
    "id": "t9y9KO42h1je"
   },
   "outputs": [],
   "source": [
    "def get_buy_and_hold_sharpe(test):\n",
    "    test['daily_return']=test['adjcp'].pct_change(1)\n",
    "    sharpe = (252**0.5)*test['daily_return'].mean()/ \\\n",
    "    test['daily_return'].std()\n",
    "    annual_return = ((test['daily_return'].mean()+1)**252-1)*100\n",
    "    print(\"annual return: \", annual_return)\n",
    "\n",
    "    print(\"sharpe ratio: \", sharpe)\n",
    "    #return sharpe"
   ]
  },
  {
   "cell_type": "code",
   "execution_count": 47,
   "metadata": {
    "colab": {
     "base_uri": "https://localhost:8080/"
    },
    "execution": {
     "iopub.execute_input": "2021-02-17T12:32:15.134628Z",
     "iopub.status.busy": "2021-02-17T12:32:15.134628Z",
     "iopub.status.idle": "2021-02-17T12:32:15.138631Z",
     "shell.execute_reply": "2021-02-17T12:32:15.138631Z",
     "shell.execute_reply.started": "2021-02-17T12:32:15.134628Z"
    },
    "id": "QVj2d0KCh1jh",
    "outputId": "cc6ece78-40a5-4cce-f3a8-85b83b605d8c"
   },
   "outputs": [
    {
     "name": "stdout",
     "output_type": "stream",
     "text": [
      "annual return:  11.688774834476966\n",
      "sharpe ratio:  0.39014966849620303\n"
     ]
    }
   ],
   "source": [
    "## get manual results\n",
    "get_buy_and_hold_sharpe(dji)"
   ]
  },
  {
   "cell_type": "code",
   "execution_count": 48,
   "metadata": {
    "execution": {
     "iopub.execute_input": "2021-02-17T12:32:20.196090Z",
     "iopub.status.busy": "2021-02-17T12:32:20.196090Z",
     "iopub.status.idle": "2021-02-17T12:32:20.199093Z",
     "shell.execute_reply": "2021-02-17T12:32:20.199093Z",
     "shell.execute_reply.started": "2021-02-17T12:32:20.196090Z"
    },
    "id": "VVS68MGqh1jk"
   },
   "outputs": [],
   "source": [
    "dji['daily_return']=dji['adjcp'].pct_change(1)"
   ]
  },
  {
   "cell_type": "code",
   "execution_count": 49,
   "metadata": {
    "execution": {
     "iopub.execute_input": "2021-02-17T12:32:27.315531Z",
     "iopub.status.busy": "2021-02-17T12:32:27.315531Z",
     "iopub.status.idle": "2021-02-17T12:32:27.319535Z",
     "shell.execute_reply": "2021-02-17T12:32:27.319535Z",
     "shell.execute_reply.started": "2021-02-17T12:32:27.315531Z"
    },
    "id": "MW4fSXm_h1jn"
   },
   "outputs": [],
   "source": [
    "# input for pyfolio\n",
    "dow_strat = backtest_strat(dji)"
   ]
  },
  {
   "cell_type": "markdown",
   "metadata": {
    "id": "mg3F7457h1jr"
   },
   "source": [
    "## Our DRL trading strategy"
   ]
  },
  {
   "cell_type": "code",
   "execution_count": 50,
   "metadata": {
    "execution": {
     "iopub.execute_input": "2021-02-17T12:32:54.547361Z",
     "iopub.status.busy": "2021-02-17T12:32:54.547361Z",
     "iopub.status.idle": "2021-02-17T12:32:54.551365Z",
     "shell.execute_reply": "2021-02-17T12:32:54.551365Z",
     "shell.execute_reply.started": "2021-02-17T12:32:54.547361Z"
    },
    "id": "zp0f60nrh1js"
   },
   "outputs": [],
   "source": [
    "def get_daily_return(df):\n",
    "    df['daily_return']=df.account_value.pct_change(1)\n",
    "    #df=df.dropna()\n",
    "    sharpe = (252**0.5)*df['daily_return'].mean()/ \\\n",
    "    df['daily_return'].std()\n",
    "    \n",
    "    annual_return = ((df['daily_return'].mean()+1)**252-1)*100\n",
    "    print(\"annual return: \", annual_return)\n",
    "    print(\"sharpe ratio: \", sharpe)    \n",
    "    return df"
   ]
  },
  {
   "cell_type": "code",
   "execution_count": 51,
   "metadata": {
    "execution": {
     "iopub.execute_input": "2021-02-17T12:33:00.914531Z",
     "iopub.status.busy": "2021-02-17T12:33:00.914531Z",
     "iopub.status.idle": "2021-02-17T12:33:00.926542Z",
     "shell.execute_reply": "2021-02-17T12:33:00.926542Z",
     "shell.execute_reply.started": "2021-02-17T12:33:00.914531Z"
    },
    "id": "UnU9qA0Wh1ju"
   },
   "outputs": [],
   "source": [
    "## load results\n",
    "df_account_value = pd.read_csv('account_value_trade.csv',index_col=0)\n",
    "df_account_value = pd.DataFrame({'account_value':df_account_value['0']})\n"
   ]
  },
  {
   "cell_type": "code",
   "execution_count": 52,
   "metadata": {
    "colab": {
     "base_uri": "https://localhost:8080/"
    },
    "execution": {
     "iopub.execute_input": "2021-02-17T12:33:10.614468Z",
     "iopub.status.busy": "2021-02-17T12:33:10.613468Z",
     "iopub.status.idle": "2021-02-17T12:33:10.617471Z",
     "shell.execute_reply": "2021-02-17T12:33:10.617471Z",
     "shell.execute_reply.started": "2021-02-17T12:33:10.614468Z"
    },
    "id": "Ub1ONkJ9h1jy",
    "outputId": "5d9b1de7-cfc2-43fd-98e8-1a92b0a4dfc9"
   },
   "outputs": [
    {
     "name": "stdout",
     "output_type": "stream",
     "text": [
      "annual return:  11.13014985285865\n",
      "sharpe ratio:  0.6092797079122302\n"
     ]
    }
   ],
   "source": [
    "## get manual results\n",
    "df_account_value=get_daily_return(df_account_value)"
   ]
  },
  {
   "cell_type": "code",
   "execution_count": 53,
   "metadata": {
    "execution": {
     "iopub.execute_input": "2021-02-17T12:33:18.874494Z",
     "iopub.status.busy": "2021-02-17T12:33:18.874494Z",
     "iopub.status.idle": "2021-02-17T12:33:18.878498Z",
     "shell.execute_reply": "2021-02-17T12:33:18.878498Z",
     "shell.execute_reply.started": "2021-02-17T12:33:18.874494Z"
    },
    "id": "90mCnh-fh1j1"
   },
   "outputs": [],
   "source": [
    "# input for pyfolio\n",
    "df_account_value['Date'] = dji['Date']\n",
    "DRL_strat = backtest_strat(df_account_value)"
   ]
  },
  {
   "cell_type": "markdown",
   "metadata": {
    "id": "zdyVEkLKuDd-"
   },
   "source": [
    "## Plot the results using Quantopian pyfolio\n",
    "Backtesting plays a key role in evaluating the performance of a trading strategy. Automated backtesting tool is preferred because it reduces the human error. We usually use the Quantopian pyfolio package to backtest our trading strategies. It is easy to use and consists of various individual plots that provide a comprehensive image of the performance of a trading strategy."
   ]
  },
  {
   "cell_type": "code",
   "execution_count": 54,
   "metadata": {
    "colab": {
     "base_uri": "https://localhost:8080/",
     "height": 1000
    },
    "execution": {
     "iopub.execute_input": "2021-02-17T12:33:24.840542Z",
     "iopub.status.busy": "2021-02-17T12:33:24.839541Z",
     "iopub.status.idle": "2021-02-17T12:33:29.543540Z",
     "shell.execute_reply": "2021-02-17T12:33:29.543540Z",
     "shell.execute_reply.started": "2021-02-17T12:33:24.840542Z"
    },
    "id": "9CIAlgQZh1j4",
    "outputId": "09d67096-761a-4e4f-b4a4-060cf66a5e0e"
   },
   "outputs": [
    {
     "data": {
      "text/html": [
       "<table border=\"1\" class=\"dataframe\">\n",
       "  <thead>\n",
       "    <tr style=\"text-align: right;\"><th>Start date</th><td colspan=2>2018-12-31</td></tr>\n",
       "    <tr style=\"text-align: right;\"><th>End date</th><td colspan=2>2020-10-20</td></tr>\n",
       "    <tr style=\"text-align: right;\"><th>Total months</th><td colspan=2>21</td></tr>\n",
       "    <tr style=\"text-align: right;\">\n",
       "      <th></th>\n",
       "      <th>Backtest</th>\n",
       "    </tr>\n",
       "  </thead>\n",
       "  <tbody>\n",
       "    <tr>\n",
       "      <th>Annual return</th>\n",
       "      <td>9.445%</td>\n",
       "    </tr>\n",
       "    <tr>\n",
       "      <th>Cumulative returns</th>\n",
       "      <td>17.74%</td>\n",
       "    </tr>\n",
       "    <tr>\n",
       "      <th>Annual volatility</th>\n",
       "      <td>17.324%</td>\n",
       "    </tr>\n",
       "    <tr>\n",
       "      <th>Sharpe ratio</th>\n",
       "      <td>0.61</td>\n",
       "    </tr>\n",
       "    <tr>\n",
       "      <th>Calmar ratio</th>\n",
       "      <td>0.59</td>\n",
       "    </tr>\n",
       "    <tr>\n",
       "      <th>Stability</th>\n",
       "      <td>0.40</td>\n",
       "    </tr>\n",
       "    <tr>\n",
       "      <th>Max drawdown</th>\n",
       "      <td>-16.057%</td>\n",
       "    </tr>\n",
       "    <tr>\n",
       "      <th>Omega ratio</th>\n",
       "      <td>1.14</td>\n",
       "    </tr>\n",
       "    <tr>\n",
       "      <th>Sortino ratio</th>\n",
       "      <td>0.83</td>\n",
       "    </tr>\n",
       "    <tr>\n",
       "      <th>Skew</th>\n",
       "      <td>NaN</td>\n",
       "    </tr>\n",
       "    <tr>\n",
       "      <th>Kurtosis</th>\n",
       "      <td>NaN</td>\n",
       "    </tr>\n",
       "    <tr>\n",
       "      <th>Tail ratio</th>\n",
       "      <td>1.00</td>\n",
       "    </tr>\n",
       "    <tr>\n",
       "      <th>Daily value at risk</th>\n",
       "      <td>-2.141%</td>\n",
       "    </tr>\n",
       "    <tr>\n",
       "      <th>Alpha</th>\n",
       "      <td>0.12</td>\n",
       "    </tr>\n",
       "    <tr>\n",
       "      <th>Beta</th>\n",
       "      <td>-0.06</td>\n",
       "    </tr>\n",
       "  </tbody>\n",
       "</table>"
      ],
      "text/plain": [
       "<IPython.core.display.HTML object>"
      ]
     },
     "metadata": {},
     "output_type": "display_data"
    },
    {
     "data": {
      "text/html": [
       "<table border=\"1\" class=\"dataframe\">\n",
       "  <thead>\n",
       "    <tr style=\"text-align: right;\">\n",
       "      <th>Worst drawdown periods</th>\n",
       "      <th>Net drawdown in %</th>\n",
       "      <th>Peak date</th>\n",
       "      <th>Valley date</th>\n",
       "      <th>Recovery date</th>\n",
       "      <th>Duration</th>\n",
       "    </tr>\n",
       "  </thead>\n",
       "  <tbody>\n",
       "    <tr>\n",
       "      <th>0</th>\n",
       "      <td>16.06</td>\n",
       "      <td>2020-06-05</td>\n",
       "      <td>2020-09-23</td>\n",
       "      <td>NaT</td>\n",
       "      <td>NaN</td>\n",
       "    </tr>\n",
       "    <tr>\n",
       "      <th>1</th>\n",
       "      <td>13.87</td>\n",
       "      <td>2020-01-15</td>\n",
       "      <td>2020-02-27</td>\n",
       "      <td>2020-06-04</td>\n",
       "      <td>102</td>\n",
       "    </tr>\n",
       "    <tr>\n",
       "      <th>2</th>\n",
       "      <td>6.87</td>\n",
       "      <td>2019-07-12</td>\n",
       "      <td>2019-08-13</td>\n",
       "      <td>2019-09-04</td>\n",
       "      <td>39</td>\n",
       "    </tr>\n",
       "    <tr>\n",
       "      <th>3</th>\n",
       "      <td>4.51</td>\n",
       "      <td>2019-09-05</td>\n",
       "      <td>2019-10-01</td>\n",
       "      <td>2019-11-11</td>\n",
       "      <td>48</td>\n",
       "    </tr>\n",
       "    <tr>\n",
       "      <th>4</th>\n",
       "      <td>3.46</td>\n",
       "      <td>2019-02-22</td>\n",
       "      <td>2019-03-21</td>\n",
       "      <td>2019-04-11</td>\n",
       "      <td>35</td>\n",
       "    </tr>\n",
       "  </tbody>\n",
       "</table>"
      ],
      "text/plain": [
       "<IPython.core.display.HTML object>"
      ]
     },
     "metadata": {},
     "output_type": "display_data"
    },
    {
     "name": "stderr",
     "output_type": "stream",
     "text": [
      "d:\\vnstudio\\lib\\site-packages\\pandas\\core\\indexes\\base.py:5277: FutureWarning: Indexing a timezone-aware DatetimeIndex with a timezone-naive datetime is deprecated and will raise KeyError in a future version.  Use a timezone-aware object instead.\n",
      "  start_slice, end_slice = self.slice_locs(start, end, step=step, kind=kind)\n"
     ]
    },
    {
     "data": {
      "text/html": [
       "<table border=\"1\" class=\"dataframe\">\n",
       "  <thead>\n",
       "    <tr style=\"text-align: right;\">\n",
       "      <th>Stress Events</th>\n",
       "      <th>mean</th>\n",
       "      <th>min</th>\n",
       "      <th>max</th>\n",
       "    </tr>\n",
       "  </thead>\n",
       "  <tbody>\n",
       "    <tr>\n",
       "      <th>New Normal</th>\n",
       "      <td>0.04%</td>\n",
       "      <td>-8.58%</td>\n",
       "      <td>5.16%</td>\n",
       "    </tr>\n",
       "  </tbody>\n",
       "</table>"
      ],
      "text/plain": [
       "<IPython.core.display.HTML object>"
      ]
     },
     "metadata": {},
     "output_type": "display_data"
    },
    {
     "name": "stderr",
     "output_type": "stream",
     "text": [
      "d:\\vnstudio\\lib\\site-packages\\pandas\\core\\indexes\\base.py:5277: FutureWarning: Indexing a timezone-aware DatetimeIndex with a timezone-naive datetime is deprecated and will raise KeyError in a future version.  Use a timezone-aware object instead.\n",
      "  start_slice, end_slice = self.slice_locs(start, end, step=step, kind=kind)\n"
     ]
    },
    {
     "data": {
      "image/png": "[encoded data removed]",
      "text/plain": [
       "<Figure size 1008x5184 with 13 Axes>"
      ]
     },
     "metadata": {
      "needs_background": "light"
     },
     "output_type": "display_data"
    },
    {
     "data": {
      "image/png": "[encoded data removed]",
      "text/plain": [
       "<Figure size 1008x432 with 1 Axes>"
      ]
     },
     "metadata": {
      "needs_background": "light"
     },
     "output_type": "display_data"
    }
   ],
   "source": [
    "%matplotlib inline\n",
    "with pyfolio.plotting.plotting_context(font_scale=1.1):\n",
    "    pyfolio.create_full_tear_sheet(returns = DRL_strat,\n",
    "                                   benchmark_rets=dow_strat, set_context=False)"
   ]
  },
  {
   "cell_type": "code",
   "execution_count": null,
   "metadata": {
    "id": "A6W2J57ch1j9"
   },
   "outputs": [],
   "source": []
  }
 ],
 "metadata": {
  "colab": {
   "collapsed_sections": [],
   "include_colab_link": true,
   "name": "DRL_multiple_stock_trading.ipynb",
   "provenance": [],
   "toc_visible": true
  },
  "kernelspec": {
   "display_name": "Python 3",
   "language": "python",
   "name": "python3"
  },
  "language_info": {
   "codemirror_mode": {
    "name": "ipython",
    "version": 3
   },
   "file_extension": ".py",
   "mimetype": "text/x-python",
   "name": "python",
   "nbconvert_exporter": "python",
   "pygments_lexer": "ipython3",
   "version": "3.7.1"
  }
 },
 "nbformat": 4,
 "nbformat_minor": 4
}
